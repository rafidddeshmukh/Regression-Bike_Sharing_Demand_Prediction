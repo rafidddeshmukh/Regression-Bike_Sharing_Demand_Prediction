{
  "nbformat": 4,
  "nbformat_minor": 0,
  "metadata": {
    "colab": {
      "provenance": [],
      "collapsed_sections": [
        "vncDsAP0Gaoa",
        "FJNUwmbgGyua",
        "w6K7xa23Elo4",
        "yQaldy8SH6Dl",
        "mDgbUHAGgjLW",
        "O_i_v8NEhb9l",
        "HhfV-JJviCcP",
        "Y3lxredqlCYt",
        "3RnN4peoiCZX",
        "x71ZqKXriCWQ",
        "7hBIi_osiCS2",
        "JlHwYmJAmNHm",
        "35m5QtbWiB9F",
        "PoPl-ycgm1ru",
        "H0kj-8xxnORC",
        "nA9Y7ga8ng1Z",
        "PBTbrJXOngz2",
        "u3PMJOP6ngxN",
        "dauF4eBmngu3",
        "bKJF3rekwFvQ",
        "MSa1f5Uengrz",
        "GF8Ens_Soomf",
        "0wOQAZs5pc--",
        "K5QZ13OEpz2H",
        "lQ7QKXXCp7Bj",
        "448CDAPjqfQr",
        "KSlN3yHqYklG",
        "t6dVpIINYklI",
        "ijmpgYnKYklI",
        "-JiQyfWJYklI",
        "EM7whBJCYoAo",
        "fge-S5ZAYoAp",
        "85gYPyotYoAp",
        "RoGjAbkUYoAp",
        "4Of9eVA-YrdM",
        "iky9q4vBYrdO",
        "F6T5p64dYrdO",
        "y-Ehk30pYrdP",
        "bamQiAODYuh1",
        "QHF8YVU7Yuh3",
        "GwzvFGzlYuh3",
        "qYpmQ266Yuh3",
        "OH-pJp9IphqM",
        "bbFf2-_FphqN",
        "_ouA3fa0phqN",
        "Seke61FWphqN",
        "PIIx-8_IphqN",
        "t27r6nlMphqO",
        "r2jJGEOYphqO",
        "b0JNsNcRphqO",
        "BZR9WyysphqO",
        "jj7wYXLtphqO",
        "eZrbJ2SmphqO",
        "rFu4xreNphqO",
        "YJ55k-q6phqO",
        "gCFgpxoyphqP",
        "OVtJsKN_phqQ",
        "lssrdh5qphqQ",
        "U2RJ9gkRphqQ",
        "1M8mcRywphqQ",
        "tgIPom80phqQ",
        "JMzcOPDDphqR",
        "x-EpHcCOp1ci",
        "X_VqEhTip1ck",
        "8zGJKyg5p1ck",
        "PVzmfK_Ep1ck",
        "n3dbpmDWp1ck",
        "ylSl6qgtp1ck",
        "ZWILFDl5p1ck",
        "M7G43BXep1ck",
        "Ag9LCva-p1cl",
        "E6MkPsBcp1cl",
        "2cELzS2fp1cl",
        "3MPXvC8up1cl",
        "NC_X3p0fY2L0",
        "UV0SzAkaZNRQ",
        "YPEH6qLeZNRQ",
        "q29F0dvdveiT",
        "EXh0U9oCveiU",
        "22aHeOlLveiV",
        "g-ATYxFrGrvw",
        "Yfr_Vlr8HBkt",
        "8yEUt7NnHlrM",
        "tEA2Xm5dHt1r",
        "I79__PHVH19G",
        "Ou-I18pAyIpj",
        "fF3858GYyt-u",
        "4_0_7-oCpUZd",
        "hwyV_J3ipUZe",
        "3yB-zSqbpUZe",
        "dEUvejAfpUZe",
        "Fd15vwWVpUZf",
        "bn_IUdTipZyH",
        "49K5P_iCpZyH",
        "Nff-vKELpZyI",
        "kLW572S8pZyI",
        "dWbDXHzopZyI",
        "yLjJCtPM0KBk",
        "xiyOF9F70UgQ",
        "7wuGOrhz0itI",
        "id1riN9m0vUs",
        "578E2V7j08f6",
        "89xtkJwZ18nB",
        "67NQN5KX2AMe",
        "Iwf50b-R2tYG",
        "GMQiZwjn3iu7",
        "WVIkgGqN3qsr",
        "XkPnILGE3zoT",
        "Hlsf0x5436Go",
        "mT9DMSJo4nBL",
        "c49ITxTc407N",
        "OeJFEK0N496M",
        "9ExmJH0g5HBk",
        "cJNqERVU536h",
        "k5UmGsbsOxih",
        "T0VqWOYE6DLQ",
        "qBMux9mC6MCf",
        "-oLEiFgy-5Pf",
        "C74aWNz2AliB",
        "2DejudWSA-a0",
        "pEMng2IbBLp7",
        "rAdphbQ9Bhjc",
        "TNVZ9zx19K6k",
        "nqoHp30x9hH9",
        "rMDnDkt2B6du",
        "yiiVWRdJDDil",
        "1UUpS68QDMuG",
        "kexQrXU-DjzY",
        "T5CmagL3EC8N",
        "BhH2vgX9EjGr",
        "qjKvONjwE8ra",
        "P1XJ9OREExlT",
        "VFOzZv6IFROw",
        "TIqpNgepFxVj",
        "VfCC591jGiD4",
        "OB4l2ZhMeS1U",
        "ArJBuiUVfxKd",
        "4qY1EAkEfxKe",
        "PiV4Ypx8fxKe",
        "TfvqoZmBfxKf",
        "dJ2tPlVmpsJ0",
        "JWYfwnehpsJ1",
        "-jK_YjpMpsJ2",
        "HAih1iBOpsJ2",
        "zVGeBEFhpsJ2",
        "bmKjuQ-FpsJ3",
        "Fze-IPXLpx6K",
        "7AN1z2sKpx6M",
        "9PIHJqyupx6M",
        "_-qAgymDpx6N",
        "Z-hykwinpx6N",
        "h_CCil-SKHpo",
        "cBFFvTBNJzUa",
        "HvGl1hHyA_VK",
        "EyNgTHvd2WFk",
        "KH5McJBi2d8v",
        "iW_Lq9qf2h6X",
        "-Kee-DAl2viO",
        "gCX9965dhzqZ",
        "gIfDvo9L0UH2"
      ],
      "include_colab_link": true
    },
    "kernelspec": {
      "name": "python3",
      "display_name": "Python 3"
    },
    "language_info": {
      "name": "python"
    },
    "gpuClass": "standard"
  },
  "cells": [
    {
      "cell_type": "markdown",
      "metadata": {
        "id": "view-in-github",
        "colab_type": "text"
      },
      "source": [
        "<a href=\"https://colab.research.google.com/github/rafidddeshmukh/Regression-Bike_Sharing_Demand_Prediction/blob/main/Regression_Bike_Sharing_Demand_Prediction.ipynb\" target=\"_parent\"><img src=\"https://colab.research.google.com/assets/colab-badge.svg\" alt=\"Open In Colab\"/></a>"
      ]
    },
    {
      "cell_type": "markdown",
      "source": [
        "# **Project Name**    - Bike Sharing Demand Prediction\n",
        "\n"
      ],
      "metadata": {
        "id": "vncDsAP0Gaoa"
      }
    },
    {
      "cell_type": "markdown",
      "source": [
        "##### **Project Type**    - Regression\n",
        "##### **Contribution**    - Individual\n"
      ],
      "metadata": {
        "id": "beRrZCGUAJYm"
      }
    },
    {
      "cell_type": "markdown",
      "source": [
        "# **Project Summary -**"
      ],
      "metadata": {
        "id": "FJNUwmbgGyua"
      }
    },
    {
      "cell_type": "markdown",
      "source": [
        "A Machine Learning regression predictive model for bike sharing demand prediction. A bike-sharing system provides people with a sustainable mode of transportation and has beneficial effects for both the environment and the user. In recent days, Pubic rental bike sharing is becoming popular because of is increased comfortableness and environmental sustainability. Data used include Seoul Bike and Capital Bikeshare program data. Data have weather data associated with it for each hour. For the dataset, we are using linear regression model were train with optimize hyperparameters using a repeated cross validation approach and testing set is used for evaluation. Multiple evaluation indices such as R2 , Root Mean Square error are use to measure the prediction performance of the regression models. The performance of the model is vary with the time interval used in transforming data."
      ],
      "metadata": {
        "id": "F6v_1wHtG2nS"
      }
    },
    {
      "cell_type": "markdown",
      "source": [
        "# **GitHub Link -**"
      ],
      "metadata": {
        "id": "w6K7xa23Elo4"
      }
    },
    {
      "cell_type": "markdown",
      "source": [
        "https://github.com/rafidddeshmukh/Regression-Bike_Sharing_Demand_Prediction"
      ],
      "metadata": {
        "id": "h1o69JH3Eqqn"
      }
    },
    {
      "cell_type": "markdown",
      "source": [
        "# **Problem Statement**\n"
      ],
      "metadata": {
        "id": "yQaldy8SH6Dl"
      }
    },
    {
      "cell_type": "markdown",
      "source": [
        "**BUSINESS PROBLEM OVERVIEW**\n",
        "\n",
        "\n",
        "Currently Rental bikes are introduced in many urban cities for the enhancement of mobility comfort. It is important to make the rental bike available and accessible to the public at the right time as it lessens the waiting time. Eventually, providing the city with a stable supply of rental bikes becomes a major concern. The crucial part is the prediction of bike count required at each hour for the stable supply of rental bikes.\n",
        "\n",
        "The main objective is to make predictive model, which could help them in redicting the bike demands proactively. This will help them in stable supply of bike wherever needed.\n"
      ],
      "metadata": {
        "id": "DpeJGUA3kjGy"
      }
    },
    {
      "cell_type": "markdown",
      "source": [
        "# **General Guidelines** : -  "
      ],
      "metadata": {
        "id": "mDgbUHAGgjLW"
      }
    },
    {
      "cell_type": "markdown",
      "source": [
        "1.   Well-structured, formatted, and commented code is required. \n",
        "2.   Exception Handling, Production Grade Code & Deployment Ready Code will be a plus. Those students will be awarded some additional credits. \n",
        "     \n",
        "     The additional credits will have advantages over other students during Star Student selection.\n",
        "       \n",
        "             [ Note: - Deployment Ready Code is defined as, the whole .ipynb notebook should be executable in one go\n",
        "                       without a single error logged. ]\n",
        "\n",
        "3.   Each and every logic should have proper comments.\n",
        "4. You may add as many number of charts you want. Make Sure for each and every chart the following format should be answered.\n",
        "        \n",
        "\n",
        "```\n",
        "# Chart visualization code\n",
        "```\n",
        "            \n",
        "\n",
        "*   Why did you pick the specific chart?\n",
        "*   What is/are the insight(s) found from the chart?\n",
        "* Will the gained insights help creating a positive business impact? \n",
        "Are there any insights that lead to negative growth? Justify with specific reason.\n",
        "\n",
        "5. You have to create at least 15 logical & meaningful charts having important insights.\n",
        "\n",
        "\n",
        "[ Hints : - Do the Vizualization in  a structured way while following \"UBM\" Rule. \n",
        "\n",
        "U - Univariate Analysis,\n",
        "\n",
        "B - Bivariate Analysis (Numerical - Categorical, Numerical - Numerical, Categorical - Categorical)\n",
        "\n",
        "M - Multivariate Analysis\n",
        " ]\n",
        "\n",
        "\n",
        "\n",
        "\n",
        "\n",
        "6. You may add more ml algorithms for model creation. Make sure for each and every algorithm, the following format should be answered.\n",
        "\n",
        "\n",
        "*   Explain the ML Model used and it's performance using Evaluation metric Score Chart.\n",
        "\n",
        "\n",
        "*   Cross- Validation & Hyperparameter Tuning\n",
        "\n",
        "*   Have you seen any improvement? Note down the improvement with updates Evaluation metric Score Chart.\n",
        "\n",
        "*   Explain each evaluation metric's indication towards business and the business impact pf the ML model used.\n",
        "\n",
        "\n",
        "\n",
        "\n",
        "\n",
        "\n",
        "\n",
        "\n",
        "\n",
        "\n",
        "\n",
        "\n",
        "\n",
        "\n",
        "\n",
        "\n",
        "\n",
        "\n"
      ],
      "metadata": {
        "id": "ZrxVaUj-hHfC"
      }
    },
    {
      "cell_type": "markdown",
      "source": [
        "# ***Let's Begin !***"
      ],
      "metadata": {
        "id": "O_i_v8NEhb9l"
      }
    },
    {
      "cell_type": "markdown",
      "source": [
        "## ***1. Know Your Data***"
      ],
      "metadata": {
        "id": "HhfV-JJviCcP"
      }
    },
    {
      "cell_type": "markdown",
      "source": [
        "### Import Libraries"
      ],
      "metadata": {
        "id": "Y3lxredqlCYt"
      }
    },
    {
      "cell_type": "code",
      "source": [
        "# Import Libraries\n",
        "import numpy as np\n",
        "import pandas as pd\n",
        "import matplotlib.pyplot as plt\n",
        "%matplotlib inline\n",
        "import seaborn as sns\n",
        "\n",
        "from sklearn.preprocessing import StandardScaler\n",
        "from sklearn.model_selection import GridSearchCV\n",
        "from sklearn.model_selection import train_test_split\n",
        "from sklearn.linear_model import LinearRegression\n",
        "from sklearn.linear_model import Lasso\n",
        "from sklearn.linear_model import Ridge\n",
        "from sklearn.linear_model import ElasticNet\n",
        "from sklearn.metrics import r2_score\n",
        "from sklearn.metrics import mean_squared_error\n",
        "from sklearn.metrics import median_absolute_error\n",
        "from sklearn.metrics import mean_absolute_percentage_error\n",
        "\n",
        "from statsmodels.stats.outliers_influence import variance_inflation_factor\n",
        "\n",
        "import warnings\n",
        "warnings.filterwarnings('ignore')\n"
      ],
      "metadata": {
        "id": "M8Vqi-pPk-HR"
      },
      "execution_count": 15,
      "outputs": []
    },
    {
      "cell_type": "markdown",
      "source": [
        "### Dataset Loading"
      ],
      "metadata": {
        "id": "3RnN4peoiCZX"
      }
    },
    {
      "cell_type": "code",
      "source": [
        "from google.colab import drive\n",
        "drive.mount('/content/drive')"
      ],
      "metadata": {
        "colab": {
          "base_uri": "https://localhost:8080/"
        },
        "id": "uB2ebqqd1FVU",
        "outputId": "8941eedf-e9c9-499f-9639-83464a84f94b"
      },
      "execution_count": 2,
      "outputs": [
        {
          "output_type": "stream",
          "name": "stdout",
          "text": [
            "Mounted at /content/drive\n"
          ]
        }
      ]
    },
    {
      "cell_type": "code",
      "source": [
        "# Load Dataset\n",
        "\n",
        "#dateset file path\n",
        "path = \"/content/drive/MyDrive/Colab Notebooks/Almabeter/ML\\\n",
        "/Linear Regression/project/Regression-Bike_sharing_Demand_prediction/\"\n",
        "\n",
        "#read csv file\n",
        "bike_df =pd.read_csv(path + \"SeoulBikeData.csv\", encoding= 'unicode_escape',\n",
        "                     parse_dates=[0])\n"
      ],
      "metadata": {
        "id": "4CkvbW_SlZ_R"
      },
      "execution_count": 28,
      "outputs": []
    },
    {
      "cell_type": "markdown",
      "source": [
        "### Dataset First View"
      ],
      "metadata": {
        "id": "x71ZqKXriCWQ"
      }
    },
    {
      "cell_type": "code",
      "source": [
        "# Dataset First Look\n",
        "bike_df.head()"
      ],
      "metadata": {
        "id": "LWNFOSvLl09H",
        "colab": {
          "base_uri": "https://localhost:8080/",
          "height": 372
        },
        "outputId": "3c734f30-b84c-4a02-db08-755465c7c44c"
      },
      "execution_count": 29,
      "outputs": [
        {
          "output_type": "execute_result",
          "data": {
            "text/plain": [
              "        Date  Rented Bike Count  Hour  Temperature(°C)  Humidity(%)  \\\n",
              "0 2017-01-12                254     0             -5.2           37   \n",
              "1 2017-01-12                204     1             -5.5           38   \n",
              "2 2017-01-12                173     2             -6.0           39   \n",
              "3 2017-01-12                107     3             -6.2           40   \n",
              "4 2017-01-12                 78     4             -6.0           36   \n",
              "\n",
              "   Wind speed (m/s)  Visibility (10m)  Dew point temperature(°C)  \\\n",
              "0               2.2              2000                      -17.6   \n",
              "1               0.8              2000                      -17.6   \n",
              "2               1.0              2000                      -17.7   \n",
              "3               0.9              2000                      -17.6   \n",
              "4               2.3              2000                      -18.6   \n",
              "\n",
              "   Solar Radiation (MJ/m2)  Rainfall(mm)  Snowfall (cm) Seasons     Holiday  \\\n",
              "0                      0.0           0.0            0.0  Winter  No Holiday   \n",
              "1                      0.0           0.0            0.0  Winter  No Holiday   \n",
              "2                      0.0           0.0            0.0  Winter  No Holiday   \n",
              "3                      0.0           0.0            0.0  Winter  No Holiday   \n",
              "4                      0.0           0.0            0.0  Winter  No Holiday   \n",
              "\n",
              "  Functioning Day  \n",
              "0             Yes  \n",
              "1             Yes  \n",
              "2             Yes  \n",
              "3             Yes  \n",
              "4             Yes  "
            ],
            "text/html": [
              "\n",
              "  <div id=\"df-b3c35867-2bc3-4bfe-b0d0-a3d8d2bac691\">\n",
              "    <div class=\"colab-df-container\">\n",
              "      <div>\n",
              "<style scoped>\n",
              "    .dataframe tbody tr th:only-of-type {\n",
              "        vertical-align: middle;\n",
              "    }\n",
              "\n",
              "    .dataframe tbody tr th {\n",
              "        vertical-align: top;\n",
              "    }\n",
              "\n",
              "    .dataframe thead th {\n",
              "        text-align: right;\n",
              "    }\n",
              "</style>\n",
              "<table border=\"1\" class=\"dataframe\">\n",
              "  <thead>\n",
              "    <tr style=\"text-align: right;\">\n",
              "      <th></th>\n",
              "      <th>Date</th>\n",
              "      <th>Rented Bike Count</th>\n",
              "      <th>Hour</th>\n",
              "      <th>Temperature(°C)</th>\n",
              "      <th>Humidity(%)</th>\n",
              "      <th>Wind speed (m/s)</th>\n",
              "      <th>Visibility (10m)</th>\n",
              "      <th>Dew point temperature(°C)</th>\n",
              "      <th>Solar Radiation (MJ/m2)</th>\n",
              "      <th>Rainfall(mm)</th>\n",
              "      <th>Snowfall (cm)</th>\n",
              "      <th>Seasons</th>\n",
              "      <th>Holiday</th>\n",
              "      <th>Functioning Day</th>\n",
              "    </tr>\n",
              "  </thead>\n",
              "  <tbody>\n",
              "    <tr>\n",
              "      <th>0</th>\n",
              "      <td>2017-01-12</td>\n",
              "      <td>254</td>\n",
              "      <td>0</td>\n",
              "      <td>-5.2</td>\n",
              "      <td>37</td>\n",
              "      <td>2.2</td>\n",
              "      <td>2000</td>\n",
              "      <td>-17.6</td>\n",
              "      <td>0.0</td>\n",
              "      <td>0.0</td>\n",
              "      <td>0.0</td>\n",
              "      <td>Winter</td>\n",
              "      <td>No Holiday</td>\n",
              "      <td>Yes</td>\n",
              "    </tr>\n",
              "    <tr>\n",
              "      <th>1</th>\n",
              "      <td>2017-01-12</td>\n",
              "      <td>204</td>\n",
              "      <td>1</td>\n",
              "      <td>-5.5</td>\n",
              "      <td>38</td>\n",
              "      <td>0.8</td>\n",
              "      <td>2000</td>\n",
              "      <td>-17.6</td>\n",
              "      <td>0.0</td>\n",
              "      <td>0.0</td>\n",
              "      <td>0.0</td>\n",
              "      <td>Winter</td>\n",
              "      <td>No Holiday</td>\n",
              "      <td>Yes</td>\n",
              "    </tr>\n",
              "    <tr>\n",
              "      <th>2</th>\n",
              "      <td>2017-01-12</td>\n",
              "      <td>173</td>\n",
              "      <td>2</td>\n",
              "      <td>-6.0</td>\n",
              "      <td>39</td>\n",
              "      <td>1.0</td>\n",
              "      <td>2000</td>\n",
              "      <td>-17.7</td>\n",
              "      <td>0.0</td>\n",
              "      <td>0.0</td>\n",
              "      <td>0.0</td>\n",
              "      <td>Winter</td>\n",
              "      <td>No Holiday</td>\n",
              "      <td>Yes</td>\n",
              "    </tr>\n",
              "    <tr>\n",
              "      <th>3</th>\n",
              "      <td>2017-01-12</td>\n",
              "      <td>107</td>\n",
              "      <td>3</td>\n",
              "      <td>-6.2</td>\n",
              "      <td>40</td>\n",
              "      <td>0.9</td>\n",
              "      <td>2000</td>\n",
              "      <td>-17.6</td>\n",
              "      <td>0.0</td>\n",
              "      <td>0.0</td>\n",
              "      <td>0.0</td>\n",
              "      <td>Winter</td>\n",
              "      <td>No Holiday</td>\n",
              "      <td>Yes</td>\n",
              "    </tr>\n",
              "    <tr>\n",
              "      <th>4</th>\n",
              "      <td>2017-01-12</td>\n",
              "      <td>78</td>\n",
              "      <td>4</td>\n",
              "      <td>-6.0</td>\n",
              "      <td>36</td>\n",
              "      <td>2.3</td>\n",
              "      <td>2000</td>\n",
              "      <td>-18.6</td>\n",
              "      <td>0.0</td>\n",
              "      <td>0.0</td>\n",
              "      <td>0.0</td>\n",
              "      <td>Winter</td>\n",
              "      <td>No Holiday</td>\n",
              "      <td>Yes</td>\n",
              "    </tr>\n",
              "  </tbody>\n",
              "</table>\n",
              "</div>\n",
              "      <button class=\"colab-df-convert\" onclick=\"convertToInteractive('df-b3c35867-2bc3-4bfe-b0d0-a3d8d2bac691')\"\n",
              "              title=\"Convert this dataframe to an interactive table.\"\n",
              "              style=\"display:none;\">\n",
              "        \n",
              "  <svg xmlns=\"http://www.w3.org/2000/svg\" height=\"24px\"viewBox=\"0 0 24 24\"\n",
              "       width=\"24px\">\n",
              "    <path d=\"M0 0h24v24H0V0z\" fill=\"none\"/>\n",
              "    <path d=\"M18.56 5.44l.94 2.06.94-2.06 2.06-.94-2.06-.94-.94-2.06-.94 2.06-2.06.94zm-11 1L8.5 8.5l.94-2.06 2.06-.94-2.06-.94L8.5 2.5l-.94 2.06-2.06.94zm10 10l.94 2.06.94-2.06 2.06-.94-2.06-.94-.94-2.06-.94 2.06-2.06.94z\"/><path d=\"M17.41 7.96l-1.37-1.37c-.4-.4-.92-.59-1.43-.59-.52 0-1.04.2-1.43.59L10.3 9.45l-7.72 7.72c-.78.78-.78 2.05 0 2.83L4 21.41c.39.39.9.59 1.41.59.51 0 1.02-.2 1.41-.59l7.78-7.78 2.81-2.81c.8-.78.8-2.07 0-2.86zM5.41 20L4 18.59l7.72-7.72 1.47 1.35L5.41 20z\"/>\n",
              "  </svg>\n",
              "      </button>\n",
              "      \n",
              "  <style>\n",
              "    .colab-df-container {\n",
              "      display:flex;\n",
              "      flex-wrap:wrap;\n",
              "      gap: 12px;\n",
              "    }\n",
              "\n",
              "    .colab-df-convert {\n",
              "      background-color: #E8F0FE;\n",
              "      border: none;\n",
              "      border-radius: 50%;\n",
              "      cursor: pointer;\n",
              "      display: none;\n",
              "      fill: #1967D2;\n",
              "      height: 32px;\n",
              "      padding: 0 0 0 0;\n",
              "      width: 32px;\n",
              "    }\n",
              "\n",
              "    .colab-df-convert:hover {\n",
              "      background-color: #E2EBFA;\n",
              "      box-shadow: 0px 1px 2px rgba(60, 64, 67, 0.3), 0px 1px 3px 1px rgba(60, 64, 67, 0.15);\n",
              "      fill: #174EA6;\n",
              "    }\n",
              "\n",
              "    [theme=dark] .colab-df-convert {\n",
              "      background-color: #3B4455;\n",
              "      fill: #D2E3FC;\n",
              "    }\n",
              "\n",
              "    [theme=dark] .colab-df-convert:hover {\n",
              "      background-color: #434B5C;\n",
              "      box-shadow: 0px 1px 3px 1px rgba(0, 0, 0, 0.15);\n",
              "      filter: drop-shadow(0px 1px 2px rgba(0, 0, 0, 0.3));\n",
              "      fill: #FFFFFF;\n",
              "    }\n",
              "  </style>\n",
              "\n",
              "      <script>\n",
              "        const buttonEl =\n",
              "          document.querySelector('#df-b3c35867-2bc3-4bfe-b0d0-a3d8d2bac691 button.colab-df-convert');\n",
              "        buttonEl.style.display =\n",
              "          google.colab.kernel.accessAllowed ? 'block' : 'none';\n",
              "\n",
              "        async function convertToInteractive(key) {\n",
              "          const element = document.querySelector('#df-b3c35867-2bc3-4bfe-b0d0-a3d8d2bac691');\n",
              "          const dataTable =\n",
              "            await google.colab.kernel.invokeFunction('convertToInteractive',\n",
              "                                                     [key], {});\n",
              "          if (!dataTable) return;\n",
              "\n",
              "          const docLinkHtml = 'Like what you see? Visit the ' +\n",
              "            '<a target=\"_blank\" href=https://colab.research.google.com/notebooks/data_table.ipynb>data table notebook</a>'\n",
              "            + ' to learn more about interactive tables.';\n",
              "          element.innerHTML = '';\n",
              "          dataTable['output_type'] = 'display_data';\n",
              "          await google.colab.output.renderOutput(dataTable, element);\n",
              "          const docLink = document.createElement('div');\n",
              "          docLink.innerHTML = docLinkHtml;\n",
              "          element.appendChild(docLink);\n",
              "        }\n",
              "      </script>\n",
              "    </div>\n",
              "  </div>\n",
              "  "
            ]
          },
          "metadata": {},
          "execution_count": 29
        }
      ]
    },
    {
      "cell_type": "code",
      "source": [
        "bike_df.tail()"
      ],
      "metadata": {
        "colab": {
          "base_uri": "https://localhost:8080/",
          "height": 372
        },
        "id": "h4JzKDhr9qPP",
        "outputId": "4a033b07-7bd6-45bf-84c2-f99fd9d0a209"
      },
      "execution_count": 32,
      "outputs": [
        {
          "output_type": "execute_result",
          "data": {
            "text/plain": [
              "           Date  Rented Bike Count  Hour  Temperature(°C)  Humidity(%)  \\\n",
              "8755 2018-11-30               1003    19              4.2           34   \n",
              "8756 2018-11-30                764    20              3.4           37   \n",
              "8757 2018-11-30                694    21              2.6           39   \n",
              "8758 2018-11-30                712    22              2.1           41   \n",
              "8759 2018-11-30                584    23              1.9           43   \n",
              "\n",
              "      Wind speed (m/s)  Visibility (10m)  Dew point temperature(°C)  \\\n",
              "8755               2.6              1894                      -10.3   \n",
              "8756               2.3              2000                       -9.9   \n",
              "8757               0.3              1968                       -9.9   \n",
              "8758               1.0              1859                       -9.8   \n",
              "8759               1.3              1909                       -9.3   \n",
              "\n",
              "      Solar Radiation (MJ/m2)  Rainfall(mm)  Snowfall (cm) Seasons  \\\n",
              "8755                      0.0           0.0            0.0  Autumn   \n",
              "8756                      0.0           0.0            0.0  Autumn   \n",
              "8757                      0.0           0.0            0.0  Autumn   \n",
              "8758                      0.0           0.0            0.0  Autumn   \n",
              "8759                      0.0           0.0            0.0  Autumn   \n",
              "\n",
              "         Holiday Functioning Day  \n",
              "8755  No Holiday             Yes  \n",
              "8756  No Holiday             Yes  \n",
              "8757  No Holiday             Yes  \n",
              "8758  No Holiday             Yes  \n",
              "8759  No Holiday             Yes  "
            ],
            "text/html": [
              "\n",
              "  <div id=\"df-93252811-e91f-4801-b31a-751c3cdf80fb\">\n",
              "    <div class=\"colab-df-container\">\n",
              "      <div>\n",
              "<style scoped>\n",
              "    .dataframe tbody tr th:only-of-type {\n",
              "        vertical-align: middle;\n",
              "    }\n",
              "\n",
              "    .dataframe tbody tr th {\n",
              "        vertical-align: top;\n",
              "    }\n",
              "\n",
              "    .dataframe thead th {\n",
              "        text-align: right;\n",
              "    }\n",
              "</style>\n",
              "<table border=\"1\" class=\"dataframe\">\n",
              "  <thead>\n",
              "    <tr style=\"text-align: right;\">\n",
              "      <th></th>\n",
              "      <th>Date</th>\n",
              "      <th>Rented Bike Count</th>\n",
              "      <th>Hour</th>\n",
              "      <th>Temperature(°C)</th>\n",
              "      <th>Humidity(%)</th>\n",
              "      <th>Wind speed (m/s)</th>\n",
              "      <th>Visibility (10m)</th>\n",
              "      <th>Dew point temperature(°C)</th>\n",
              "      <th>Solar Radiation (MJ/m2)</th>\n",
              "      <th>Rainfall(mm)</th>\n",
              "      <th>Snowfall (cm)</th>\n",
              "      <th>Seasons</th>\n",
              "      <th>Holiday</th>\n",
              "      <th>Functioning Day</th>\n",
              "    </tr>\n",
              "  </thead>\n",
              "  <tbody>\n",
              "    <tr>\n",
              "      <th>8755</th>\n",
              "      <td>2018-11-30</td>\n",
              "      <td>1003</td>\n",
              "      <td>19</td>\n",
              "      <td>4.2</td>\n",
              "      <td>34</td>\n",
              "      <td>2.6</td>\n",
              "      <td>1894</td>\n",
              "      <td>-10.3</td>\n",
              "      <td>0.0</td>\n",
              "      <td>0.0</td>\n",
              "      <td>0.0</td>\n",
              "      <td>Autumn</td>\n",
              "      <td>No Holiday</td>\n",
              "      <td>Yes</td>\n",
              "    </tr>\n",
              "    <tr>\n",
              "      <th>8756</th>\n",
              "      <td>2018-11-30</td>\n",
              "      <td>764</td>\n",
              "      <td>20</td>\n",
              "      <td>3.4</td>\n",
              "      <td>37</td>\n",
              "      <td>2.3</td>\n",
              "      <td>2000</td>\n",
              "      <td>-9.9</td>\n",
              "      <td>0.0</td>\n",
              "      <td>0.0</td>\n",
              "      <td>0.0</td>\n",
              "      <td>Autumn</td>\n",
              "      <td>No Holiday</td>\n",
              "      <td>Yes</td>\n",
              "    </tr>\n",
              "    <tr>\n",
              "      <th>8757</th>\n",
              "      <td>2018-11-30</td>\n",
              "      <td>694</td>\n",
              "      <td>21</td>\n",
              "      <td>2.6</td>\n",
              "      <td>39</td>\n",
              "      <td>0.3</td>\n",
              "      <td>1968</td>\n",
              "      <td>-9.9</td>\n",
              "      <td>0.0</td>\n",
              "      <td>0.0</td>\n",
              "      <td>0.0</td>\n",
              "      <td>Autumn</td>\n",
              "      <td>No Holiday</td>\n",
              "      <td>Yes</td>\n",
              "    </tr>\n",
              "    <tr>\n",
              "      <th>8758</th>\n",
              "      <td>2018-11-30</td>\n",
              "      <td>712</td>\n",
              "      <td>22</td>\n",
              "      <td>2.1</td>\n",
              "      <td>41</td>\n",
              "      <td>1.0</td>\n",
              "      <td>1859</td>\n",
              "      <td>-9.8</td>\n",
              "      <td>0.0</td>\n",
              "      <td>0.0</td>\n",
              "      <td>0.0</td>\n",
              "      <td>Autumn</td>\n",
              "      <td>No Holiday</td>\n",
              "      <td>Yes</td>\n",
              "    </tr>\n",
              "    <tr>\n",
              "      <th>8759</th>\n",
              "      <td>2018-11-30</td>\n",
              "      <td>584</td>\n",
              "      <td>23</td>\n",
              "      <td>1.9</td>\n",
              "      <td>43</td>\n",
              "      <td>1.3</td>\n",
              "      <td>1909</td>\n",
              "      <td>-9.3</td>\n",
              "      <td>0.0</td>\n",
              "      <td>0.0</td>\n",
              "      <td>0.0</td>\n",
              "      <td>Autumn</td>\n",
              "      <td>No Holiday</td>\n",
              "      <td>Yes</td>\n",
              "    </tr>\n",
              "  </tbody>\n",
              "</table>\n",
              "</div>\n",
              "      <button class=\"colab-df-convert\" onclick=\"convertToInteractive('df-93252811-e91f-4801-b31a-751c3cdf80fb')\"\n",
              "              title=\"Convert this dataframe to an interactive table.\"\n",
              "              style=\"display:none;\">\n",
              "        \n",
              "  <svg xmlns=\"http://www.w3.org/2000/svg\" height=\"24px\"viewBox=\"0 0 24 24\"\n",
              "       width=\"24px\">\n",
              "    <path d=\"M0 0h24v24H0V0z\" fill=\"none\"/>\n",
              "    <path d=\"M18.56 5.44l.94 2.06.94-2.06 2.06-.94-2.06-.94-.94-2.06-.94 2.06-2.06.94zm-11 1L8.5 8.5l.94-2.06 2.06-.94-2.06-.94L8.5 2.5l-.94 2.06-2.06.94zm10 10l.94 2.06.94-2.06 2.06-.94-2.06-.94-.94-2.06-.94 2.06-2.06.94z\"/><path d=\"M17.41 7.96l-1.37-1.37c-.4-.4-.92-.59-1.43-.59-.52 0-1.04.2-1.43.59L10.3 9.45l-7.72 7.72c-.78.78-.78 2.05 0 2.83L4 21.41c.39.39.9.59 1.41.59.51 0 1.02-.2 1.41-.59l7.78-7.78 2.81-2.81c.8-.78.8-2.07 0-2.86zM5.41 20L4 18.59l7.72-7.72 1.47 1.35L5.41 20z\"/>\n",
              "  </svg>\n",
              "      </button>\n",
              "      \n",
              "  <style>\n",
              "    .colab-df-container {\n",
              "      display:flex;\n",
              "      flex-wrap:wrap;\n",
              "      gap: 12px;\n",
              "    }\n",
              "\n",
              "    .colab-df-convert {\n",
              "      background-color: #E8F0FE;\n",
              "      border: none;\n",
              "      border-radius: 50%;\n",
              "      cursor: pointer;\n",
              "      display: none;\n",
              "      fill: #1967D2;\n",
              "      height: 32px;\n",
              "      padding: 0 0 0 0;\n",
              "      width: 32px;\n",
              "    }\n",
              "\n",
              "    .colab-df-convert:hover {\n",
              "      background-color: #E2EBFA;\n",
              "      box-shadow: 0px 1px 2px rgba(60, 64, 67, 0.3), 0px 1px 3px 1px rgba(60, 64, 67, 0.15);\n",
              "      fill: #174EA6;\n",
              "    }\n",
              "\n",
              "    [theme=dark] .colab-df-convert {\n",
              "      background-color: #3B4455;\n",
              "      fill: #D2E3FC;\n",
              "    }\n",
              "\n",
              "    [theme=dark] .colab-df-convert:hover {\n",
              "      background-color: #434B5C;\n",
              "      box-shadow: 0px 1px 3px 1px rgba(0, 0, 0, 0.15);\n",
              "      filter: drop-shadow(0px 1px 2px rgba(0, 0, 0, 0.3));\n",
              "      fill: #FFFFFF;\n",
              "    }\n",
              "  </style>\n",
              "\n",
              "      <script>\n",
              "        const buttonEl =\n",
              "          document.querySelector('#df-93252811-e91f-4801-b31a-751c3cdf80fb button.colab-df-convert');\n",
              "        buttonEl.style.display =\n",
              "          google.colab.kernel.accessAllowed ? 'block' : 'none';\n",
              "\n",
              "        async function convertToInteractive(key) {\n",
              "          const element = document.querySelector('#df-93252811-e91f-4801-b31a-751c3cdf80fb');\n",
              "          const dataTable =\n",
              "            await google.colab.kernel.invokeFunction('convertToInteractive',\n",
              "                                                     [key], {});\n",
              "          if (!dataTable) return;\n",
              "\n",
              "          const docLinkHtml = 'Like what you see? Visit the ' +\n",
              "            '<a target=\"_blank\" href=https://colab.research.google.com/notebooks/data_table.ipynb>data table notebook</a>'\n",
              "            + ' to learn more about interactive tables.';\n",
              "          element.innerHTML = '';\n",
              "          dataTable['output_type'] = 'display_data';\n",
              "          await google.colab.output.renderOutput(dataTable, element);\n",
              "          const docLink = document.createElement('div');\n",
              "          docLink.innerHTML = docLinkHtml;\n",
              "          element.appendChild(docLink);\n",
              "        }\n",
              "      </script>\n",
              "    </div>\n",
              "  </div>\n",
              "  "
            ]
          },
          "metadata": {},
          "execution_count": 32
        }
      ]
    },
    {
      "cell_type": "markdown",
      "source": [
        "### Dataset Rows & Columns count"
      ],
      "metadata": {
        "id": "7hBIi_osiCS2"
      }
    },
    {
      "cell_type": "code",
      "source": [
        "# Dataset Rows & Columns count\n",
        "bike_df.shape"
      ],
      "metadata": {
        "id": "Kllu7SJgmLij",
        "colab": {
          "base_uri": "https://localhost:8080/"
        },
        "outputId": "00a45701-1af4-45d9-86fa-bf0f639499a3"
      },
      "execution_count": 30,
      "outputs": [
        {
          "output_type": "execute_result",
          "data": {
            "text/plain": [
              "(8760, 14)"
            ]
          },
          "metadata": {},
          "execution_count": 30
        }
      ]
    },
    {
      "cell_type": "markdown",
      "source": [
        "### Dataset Information"
      ],
      "metadata": {
        "id": "JlHwYmJAmNHm"
      }
    },
    {
      "cell_type": "code",
      "source": [
        "# Dataset Info\n",
        "bike_df.info()"
      ],
      "metadata": {
        "id": "e9hRXRi6meOf",
        "colab": {
          "base_uri": "https://localhost:8080/"
        },
        "outputId": "24815502-8225-4c09-8e3c-a565ccc9a755"
      },
      "execution_count": 31,
      "outputs": [
        {
          "output_type": "stream",
          "name": "stdout",
          "text": [
            "<class 'pandas.core.frame.DataFrame'>\n",
            "RangeIndex: 8760 entries, 0 to 8759\n",
            "Data columns (total 14 columns):\n",
            " #   Column                     Non-Null Count  Dtype         \n",
            "---  ------                     --------------  -----         \n",
            " 0   Date                       8760 non-null   datetime64[ns]\n",
            " 1   Rented Bike Count          8760 non-null   int64         \n",
            " 2   Hour                       8760 non-null   int64         \n",
            " 3   Temperature(°C)            8760 non-null   float64       \n",
            " 4   Humidity(%)                8760 non-null   int64         \n",
            " 5   Wind speed (m/s)           8760 non-null   float64       \n",
            " 6   Visibility (10m)           8760 non-null   int64         \n",
            " 7   Dew point temperature(°C)  8760 non-null   float64       \n",
            " 8   Solar Radiation (MJ/m2)    8760 non-null   float64       \n",
            " 9   Rainfall(mm)               8760 non-null   float64       \n",
            " 10  Snowfall (cm)              8760 non-null   float64       \n",
            " 11  Seasons                    8760 non-null   object        \n",
            " 12  Holiday                    8760 non-null   object        \n",
            " 13  Functioning Day            8760 non-null   object        \n",
            "dtypes: datetime64[ns](1), float64(6), int64(4), object(3)\n",
            "memory usage: 958.2+ KB\n"
          ]
        }
      ]
    },
    {
      "cell_type": "markdown",
      "source": [
        "#### Duplicate Values"
      ],
      "metadata": {
        "id": "35m5QtbWiB9F"
      }
    },
    {
      "cell_type": "code",
      "source": [
        "# Dataset Duplicate Value Count\n",
        "len(bike_df[bike_df.duplicated()])"
      ],
      "metadata": {
        "id": "1sLdpKYkmox0",
        "colab": {
          "base_uri": "https://localhost:8080/"
        },
        "outputId": "05073893-48df-4a5a-f2b6-39dfb1822f48"
      },
      "execution_count": 10,
      "outputs": [
        {
          "output_type": "execute_result",
          "data": {
            "text/plain": [
              "0"
            ]
          },
          "metadata": {},
          "execution_count": 10
        }
      ]
    },
    {
      "cell_type": "markdown",
      "source": [
        "#### Missing Values/Null Values"
      ],
      "metadata": {
        "id": "PoPl-ycgm1ru"
      }
    },
    {
      "cell_type": "code",
      "source": [
        "# Missing Values/Null Values Count\n",
        "bike_df.isnull().sum().sort_values(ascending=False)[:5]"
      ],
      "metadata": {
        "id": "GgHWkxvamxVg",
        "colab": {
          "base_uri": "https://localhost:8080/"
        },
        "outputId": "2e490411-75a5-4346-9510-409ff6e83dc9"
      },
      "execution_count": 14,
      "outputs": [
        {
          "output_type": "execute_result",
          "data": {
            "text/plain": [
              "Date                 0\n",
              "Rented Bike Count    0\n",
              "Hour                 0\n",
              "Temperature(°C)      0\n",
              "Humidity(%)          0\n",
              "dtype: int64"
            ]
          },
          "metadata": {},
          "execution_count": 14
        }
      ]
    },
    {
      "cell_type": "code",
      "source": [
        "# Visualizing the missing values\n",
        "sns.heatmap(bike_df.isnull(), cbar=False,)"
      ],
      "metadata": {
        "id": "3q5wnI3om9sJ",
        "colab": {
          "base_uri": "https://localhost:8080/",
          "height": 413
        },
        "outputId": "03cdc274-4d61-4dd6-bd78-d0dddfd168cc"
      },
      "execution_count": 27,
      "outputs": [
        {
          "output_type": "execute_result",
          "data": {
            "text/plain": [
              "<matplotlib.axes._subplots.AxesSubplot at 0x7f81c49920a0>"
            ]
          },
          "metadata": {},
          "execution_count": 27
        },
        {
          "output_type": "display_data",
          "data": {
            "text/plain": [
              "<Figure size 432x288 with 1 Axes>"
            ],
            "image/png": "[encoded data removed]"
          },
          "metadata": {
            "needs_background": "light"
          }
        }
      ]
    },
    {
      "cell_type": "markdown",
      "source": [
        "### What did you know about your dataset?"
      ],
      "metadata": {
        "id": "H0kj-8xxnORC"
      }
    },
    {
      "cell_type": "markdown",
      "source": [
        "\n",
        "The dataset was retrieved from UCI Machine Repository and contains the number of public bicycles. It is composed of 14 attributes with 8760 instances.\n",
        "\n",
        "Each 24 instances represent one day in a year. The target is the\n",
        "number of bicycles rented per hour.\n",
        "\n",
        "There are no mising values and duplicate values in this dataset."
      ],
      "metadata": {
        "id": "E-XGDO6jCAJg"
      }
    },
    {
      "cell_type": "markdown",
      "source": [
        "## ***2. Understanding Your Variables***"
      ],
      "metadata": {
        "id": "nA9Y7ga8ng1Z"
      }
    },
    {
      "cell_type": "code",
      "source": [
        "# Dataset Columns\n",
        "bike_df.columns"
      ],
      "metadata": {
        "id": "j7xfkqrt5Ag5",
        "colab": {
          "base_uri": "https://localhost:8080/"
        },
        "outputId": "2a72db5c-a790-4412-fe2d-3c51d0b0366d"
      },
      "execution_count": 19,
      "outputs": [
        {
          "output_type": "execute_result",
          "data": {
            "text/plain": [
              "Index(['Date', 'Rented Bike Count', 'Hour', 'Temperature(°C)', 'Humidity(%)',\n",
              "       'Wind speed (m/s)', 'Visibility (10m)', 'Dew point temperature(°C)',\n",
              "       'Solar Radiation (MJ/m2)', 'Rainfall(mm)', 'Snowfall (cm)', 'Seasons',\n",
              "       'Holiday', 'Functioning Day'],\n",
              "      dtype='object')"
            ]
          },
          "metadata": {},
          "execution_count": 19
        }
      ]
    },
    {
      "cell_type": "code",
      "source": [
        "# Dataset Describe\n",
        "bike_df.describe(include='all')"
      ],
      "metadata": {
        "id": "DnOaZdaE5Q5t",
        "colab": {
          "base_uri": "https://localhost:8080/",
          "height": 660
        },
        "outputId": "c1361455-4fce-403c-e37a-f5793f23ab59"
      },
      "execution_count": 33,
      "outputs": [
        {
          "output_type": "execute_result",
          "data": {
            "text/plain": [
              "                       Date  Rented Bike Count         Hour  Temperature(°C)  \\\n",
              "count                  8760        8760.000000  8760.000000      8760.000000   \n",
              "unique                  365                NaN          NaN              NaN   \n",
              "top     2017-01-12 00:00:00                NaN          NaN              NaN   \n",
              "freq                     24                NaN          NaN              NaN   \n",
              "first   2017-01-12 00:00:00                NaN          NaN              NaN   \n",
              "last    2018-12-11 00:00:00                NaN          NaN              NaN   \n",
              "mean                    NaN         704.602055    11.500000        12.882922   \n",
              "std                     NaN         644.997468     6.922582        11.944825   \n",
              "min                     NaN           0.000000     0.000000       -17.800000   \n",
              "25%                     NaN         191.000000     5.750000         3.500000   \n",
              "50%                     NaN         504.500000    11.500000        13.700000   \n",
              "75%                     NaN        1065.250000    17.250000        22.500000   \n",
              "max                     NaN        3556.000000    23.000000        39.400000   \n",
              "\n",
              "        Humidity(%)  Wind speed (m/s)  Visibility (10m)  \\\n",
              "count   8760.000000       8760.000000       8760.000000   \n",
              "unique          NaN               NaN               NaN   \n",
              "top             NaN               NaN               NaN   \n",
              "freq            NaN               NaN               NaN   \n",
              "first           NaN               NaN               NaN   \n",
              "last            NaN               NaN               NaN   \n",
              "mean      58.226256          1.724909       1436.825799   \n",
              "std       20.362413          1.036300        608.298712   \n",
              "min        0.000000          0.000000         27.000000   \n",
              "25%       42.000000          0.900000        940.000000   \n",
              "50%       57.000000          1.500000       1698.000000   \n",
              "75%       74.000000          2.300000       2000.000000   \n",
              "max       98.000000          7.400000       2000.000000   \n",
              "\n",
              "        Dew point temperature(°C)  Solar Radiation (MJ/m2)  Rainfall(mm)  \\\n",
              "count                 8760.000000              8760.000000   8760.000000   \n",
              "unique                        NaN                      NaN           NaN   \n",
              "top                           NaN                      NaN           NaN   \n",
              "freq                          NaN                      NaN           NaN   \n",
              "first                         NaN                      NaN           NaN   \n",
              "last                          NaN                      NaN           NaN   \n",
              "mean                     4.073813                 0.569111      0.148687   \n",
              "std                     13.060369                 0.868746      1.128193   \n",
              "min                    -30.600000                 0.000000      0.000000   \n",
              "25%                     -4.700000                 0.000000      0.000000   \n",
              "50%                      5.100000                 0.010000      0.000000   \n",
              "75%                     14.800000                 0.930000      0.000000   \n",
              "max                     27.200000                 3.520000     35.000000   \n",
              "\n",
              "        Snowfall (cm) Seasons     Holiday Functioning Day  \n",
              "count     8760.000000    8760        8760            8760  \n",
              "unique            NaN       4           2               2  \n",
              "top               NaN  Spring  No Holiday             Yes  \n",
              "freq              NaN    2208        8328            8465  \n",
              "first             NaN     NaN         NaN             NaN  \n",
              "last              NaN     NaN         NaN             NaN  \n",
              "mean         0.075068     NaN         NaN             NaN  \n",
              "std          0.436746     NaN         NaN             NaN  \n",
              "min          0.000000     NaN         NaN             NaN  \n",
              "25%          0.000000     NaN         NaN             NaN  \n",
              "50%          0.000000     NaN         NaN             NaN  \n",
              "75%          0.000000     NaN         NaN             NaN  \n",
              "max          8.800000     NaN         NaN             NaN  "
            ],
            "text/html": [
              "\n",
              "  <div id=\"df-4d7938b1-6040-471a-a857-b33e79e05a76\">\n",
              "    <div class=\"colab-df-container\">\n",
              "      <div>\n",
              "<style scoped>\n",
              "    .dataframe tbody tr th:only-of-type {\n",
              "        vertical-align: middle;\n",
              "    }\n",
              "\n",
              "    .dataframe tbody tr th {\n",
              "        vertical-align: top;\n",
              "    }\n",
              "\n",
              "    .dataframe thead th {\n",
              "        text-align: right;\n",
              "    }\n",
              "</style>\n",
              "<table border=\"1\" class=\"dataframe\">\n",
              "  <thead>\n",
              "    <tr style=\"text-align: right;\">\n",
              "      <th></th>\n",
              "      <th>Date</th>\n",
              "      <th>Rented Bike Count</th>\n",
              "      <th>Hour</th>\n",
              "      <th>Temperature(°C)</th>\n",
              "      <th>Humidity(%)</th>\n",
              "      <th>Wind speed (m/s)</th>\n",
              "      <th>Visibility (10m)</th>\n",
              "      <th>Dew point temperature(°C)</th>\n",
              "      <th>Solar Radiation (MJ/m2)</th>\n",
              "      <th>Rainfall(mm)</th>\n",
              "      <th>Snowfall (cm)</th>\n",
              "      <th>Seasons</th>\n",
              "      <th>Holiday</th>\n",
              "      <th>Functioning Day</th>\n",
              "    </tr>\n",
              "  </thead>\n",
              "  <tbody>\n",
              "    <tr>\n",
              "      <th>count</th>\n",
              "      <td>8760</td>\n",
              "      <td>8760.000000</td>\n",
              "      <td>8760.000000</td>\n",
              "      <td>8760.000000</td>\n",
              "      <td>8760.000000</td>\n",
              "      <td>8760.000000</td>\n",
              "      <td>8760.000000</td>\n",
              "      <td>8760.000000</td>\n",
              "      <td>8760.000000</td>\n",
              "      <td>8760.000000</td>\n",
              "      <td>8760.000000</td>\n",
              "      <td>8760</td>\n",
              "      <td>8760</td>\n",
              "      <td>8760</td>\n",
              "    </tr>\n",
              "    <tr>\n",
              "      <th>unique</th>\n",
              "      <td>365</td>\n",
              "      <td>NaN</td>\n",
              "      <td>NaN</td>\n",
              "      <td>NaN</td>\n",
              "      <td>NaN</td>\n",
              "      <td>NaN</td>\n",
              "      <td>NaN</td>\n",
              "      <td>NaN</td>\n",
              "      <td>NaN</td>\n",
              "      <td>NaN</td>\n",
              "      <td>NaN</td>\n",
              "      <td>4</td>\n",
              "      <td>2</td>\n",
              "      <td>2</td>\n",
              "    </tr>\n",
              "    <tr>\n",
              "      <th>top</th>\n",
              "      <td>2017-01-12 00:00:00</td>\n",
              "      <td>NaN</td>\n",
              "      <td>NaN</td>\n",
              "      <td>NaN</td>\n",
              "      <td>NaN</td>\n",
              "      <td>NaN</td>\n",
              "      <td>NaN</td>\n",
              "      <td>NaN</td>\n",
              "      <td>NaN</td>\n",
              "      <td>NaN</td>\n",
              "      <td>NaN</td>\n",
              "      <td>Spring</td>\n",
              "      <td>No Holiday</td>\n",
              "      <td>Yes</td>\n",
              "    </tr>\n",
              "    <tr>\n",
              "      <th>freq</th>\n",
              "      <td>24</td>\n",
              "      <td>NaN</td>\n",
              "      <td>NaN</td>\n",
              "      <td>NaN</td>\n",
              "      <td>NaN</td>\n",
              "      <td>NaN</td>\n",
              "      <td>NaN</td>\n",
              "      <td>NaN</td>\n",
              "      <td>NaN</td>\n",
              "      <td>NaN</td>\n",
              "      <td>NaN</td>\n",
              "      <td>2208</td>\n",
              "      <td>8328</td>\n",
              "      <td>8465</td>\n",
              "    </tr>\n",
              "    <tr>\n",
              "      <th>first</th>\n",
              "      <td>2017-01-12 00:00:00</td>\n",
              "      <td>NaN</td>\n",
              "      <td>NaN</td>\n",
              "      <td>NaN</td>\n",
              "      <td>NaN</td>\n",
              "      <td>NaN</td>\n",
              "      <td>NaN</td>\n",
              "      <td>NaN</td>\n",
              "      <td>NaN</td>\n",
              "      <td>NaN</td>\n",
              "      <td>NaN</td>\n",
              "      <td>NaN</td>\n",
              "      <td>NaN</td>\n",
              "      <td>NaN</td>\n",
              "    </tr>\n",
              "    <tr>\n",
              "      <th>last</th>\n",
              "      <td>2018-12-11 00:00:00</td>\n",
              "      <td>NaN</td>\n",
              "      <td>NaN</td>\n",
              "      <td>NaN</td>\n",
              "      <td>NaN</td>\n",
              "      <td>NaN</td>\n",
              "      <td>NaN</td>\n",
              "      <td>NaN</td>\n",
              "      <td>NaN</td>\n",
              "      <td>NaN</td>\n",
              "      <td>NaN</td>\n",
              "      <td>NaN</td>\n",
              "      <td>NaN</td>\n",
              "      <td>NaN</td>\n",
              "    </tr>\n",
              "    <tr>\n",
              "      <th>mean</th>\n",
              "      <td>NaN</td>\n",
              "      <td>704.602055</td>\n",
              "      <td>11.500000</td>\n",
              "      <td>12.882922</td>\n",
              "      <td>58.226256</td>\n",
              "      <td>1.724909</td>\n",
              "      <td>1436.825799</td>\n",
              "      <td>4.073813</td>\n",
              "      <td>0.569111</td>\n",
              "      <td>0.148687</td>\n",
              "      <td>0.075068</td>\n",
              "      <td>NaN</td>\n",
              "      <td>NaN</td>\n",
              "      <td>NaN</td>\n",
              "    </tr>\n",
              "    <tr>\n",
              "      <th>std</th>\n",
              "      <td>NaN</td>\n",
              "      <td>644.997468</td>\n",
              "      <td>6.922582</td>\n",
              "      <td>11.944825</td>\n",
              "      <td>20.362413</td>\n",
              "      <td>1.036300</td>\n",
              "      <td>608.298712</td>\n",
              "      <td>13.060369</td>\n",
              "      <td>0.868746</td>\n",
              "      <td>1.128193</td>\n",
              "      <td>0.436746</td>\n",
              "      <td>NaN</td>\n",
              "      <td>NaN</td>\n",
              "      <td>NaN</td>\n",
              "    </tr>\n",
              "    <tr>\n",
              "      <th>min</th>\n",
              "      <td>NaN</td>\n",
              "      <td>0.000000</td>\n",
              "      <td>0.000000</td>\n",
              "      <td>-17.800000</td>\n",
              "      <td>0.000000</td>\n",
              "      <td>0.000000</td>\n",
              "      <td>27.000000</td>\n",
              "      <td>-30.600000</td>\n",
              "      <td>0.000000</td>\n",
              "      <td>0.000000</td>\n",
              "      <td>0.000000</td>\n",
              "      <td>NaN</td>\n",
              "      <td>NaN</td>\n",
              "      <td>NaN</td>\n",
              "    </tr>\n",
              "    <tr>\n",
              "      <th>25%</th>\n",
              "      <td>NaN</td>\n",
              "      <td>191.000000</td>\n",
              "      <td>5.750000</td>\n",
              "      <td>3.500000</td>\n",
              "      <td>42.000000</td>\n",
              "      <td>0.900000</td>\n",
              "      <td>940.000000</td>\n",
              "      <td>-4.700000</td>\n",
              "      <td>0.000000</td>\n",
              "      <td>0.000000</td>\n",
              "      <td>0.000000</td>\n",
              "      <td>NaN</td>\n",
              "      <td>NaN</td>\n",
              "      <td>NaN</td>\n",
              "    </tr>\n",
              "    <tr>\n",
              "      <th>50%</th>\n",
              "      <td>NaN</td>\n",
              "      <td>504.500000</td>\n",
              "      <td>11.500000</td>\n",
              "      <td>13.700000</td>\n",
              "      <td>57.000000</td>\n",
              "      <td>1.500000</td>\n",
              "      <td>1698.000000</td>\n",
              "      <td>5.100000</td>\n",
              "      <td>0.010000</td>\n",
              "      <td>0.000000</td>\n",
              "      <td>0.000000</td>\n",
              "      <td>NaN</td>\n",
              "      <td>NaN</td>\n",
              "      <td>NaN</td>\n",
              "    </tr>\n",
              "    <tr>\n",
              "      <th>75%</th>\n",
              "      <td>NaN</td>\n",
              "      <td>1065.250000</td>\n",
              "      <td>17.250000</td>\n",
              "      <td>22.500000</td>\n",
              "      <td>74.000000</td>\n",
              "      <td>2.300000</td>\n",
              "      <td>2000.000000</td>\n",
              "      <td>14.800000</td>\n",
              "      <td>0.930000</td>\n",
              "      <td>0.000000</td>\n",
              "      <td>0.000000</td>\n",
              "      <td>NaN</td>\n",
              "      <td>NaN</td>\n",
              "      <td>NaN</td>\n",
              "    </tr>\n",
              "    <tr>\n",
              "      <th>max</th>\n",
              "      <td>NaN</td>\n",
              "      <td>3556.000000</td>\n",
              "      <td>23.000000</td>\n",
              "      <td>39.400000</td>\n",
              "      <td>98.000000</td>\n",
              "      <td>7.400000</td>\n",
              "      <td>2000.000000</td>\n",
              "      <td>27.200000</td>\n",
              "      <td>3.520000</td>\n",
              "      <td>35.000000</td>\n",
              "      <td>8.800000</td>\n",
              "      <td>NaN</td>\n",
              "      <td>NaN</td>\n",
              "      <td>NaN</td>\n",
              "    </tr>\n",
              "  </tbody>\n",
              "</table>\n",
              "</div>\n",
              "      <button class=\"colab-df-convert\" onclick=\"convertToInteractive('df-4d7938b1-6040-471a-a857-b33e79e05a76')\"\n",
              "              title=\"Convert this dataframe to an interactive table.\"\n",
              "              style=\"display:none;\">\n",
              "        \n",
              "  <svg xmlns=\"http://www.w3.org/2000/svg\" height=\"24px\"viewBox=\"0 0 24 24\"\n",
              "       width=\"24px\">\n",
              "    <path d=\"M0 0h24v24H0V0z\" fill=\"none\"/>\n",
              "    <path d=\"M18.56 5.44l.94 2.06.94-2.06 2.06-.94-2.06-.94-.94-2.06-.94 2.06-2.06.94zm-11 1L8.5 8.5l.94-2.06 2.06-.94-2.06-.94L8.5 2.5l-.94 2.06-2.06.94zm10 10l.94 2.06.94-2.06 2.06-.94-2.06-.94-.94-2.06-.94 2.06-2.06.94z\"/><path d=\"M17.41 7.96l-1.37-1.37c-.4-.4-.92-.59-1.43-.59-.52 0-1.04.2-1.43.59L10.3 9.45l-7.72 7.72c-.78.78-.78 2.05 0 2.83L4 21.41c.39.39.9.59 1.41.59.51 0 1.02-.2 1.41-.59l7.78-7.78 2.81-2.81c.8-.78.8-2.07 0-2.86zM5.41 20L4 18.59l7.72-7.72 1.47 1.35L5.41 20z\"/>\n",
              "  </svg>\n",
              "      </button>\n",
              "      \n",
              "  <style>\n",
              "    .colab-df-container {\n",
              "      display:flex;\n",
              "      flex-wrap:wrap;\n",
              "      gap: 12px;\n",
              "    }\n",
              "\n",
              "    .colab-df-convert {\n",
              "      background-color: #E8F0FE;\n",
              "      border: none;\n",
              "      border-radius: 50%;\n",
              "      cursor: pointer;\n",
              "      display: none;\n",
              "      fill: #1967D2;\n",
              "      height: 32px;\n",
              "      padding: 0 0 0 0;\n",
              "      width: 32px;\n",
              "    }\n",
              "\n",
              "    .colab-df-convert:hover {\n",
              "      background-color: #E2EBFA;\n",
              "      box-shadow: 0px 1px 2px rgba(60, 64, 67, 0.3), 0px 1px 3px 1px rgba(60, 64, 67, 0.15);\n",
              "      fill: #174EA6;\n",
              "    }\n",
              "\n",
              "    [theme=dark] .colab-df-convert {\n",
              "      background-color: #3B4455;\n",
              "      fill: #D2E3FC;\n",
              "    }\n",
              "\n",
              "    [theme=dark] .colab-df-convert:hover {\n",
              "      background-color: #434B5C;\n",
              "      box-shadow: 0px 1px 3px 1px rgba(0, 0, 0, 0.15);\n",
              "      filter: drop-shadow(0px 1px 2px rgba(0, 0, 0, 0.3));\n",
              "      fill: #FFFFFF;\n",
              "    }\n",
              "  </style>\n",
              "\n",
              "      <script>\n",
              "        const buttonEl =\n",
              "          document.querySelector('#df-4d7938b1-6040-471a-a857-b33e79e05a76 button.colab-df-convert');\n",
              "        buttonEl.style.display =\n",
              "          google.colab.kernel.accessAllowed ? 'block' : 'none';\n",
              "\n",
              "        async function convertToInteractive(key) {\n",
              "          const element = document.querySelector('#df-4d7938b1-6040-471a-a857-b33e79e05a76');\n",
              "          const dataTable =\n",
              "            await google.colab.kernel.invokeFunction('convertToInteractive',\n",
              "                                                     [key], {});\n",
              "          if (!dataTable) return;\n",
              "\n",
              "          const docLinkHtml = 'Like what you see? Visit the ' +\n",
              "            '<a target=\"_blank\" href=https://colab.research.google.com/notebooks/data_table.ipynb>data table notebook</a>'\n",
              "            + ' to learn more about interactive tables.';\n",
              "          element.innerHTML = '';\n",
              "          dataTable['output_type'] = 'display_data';\n",
              "          await google.colab.output.renderOutput(dataTable, element);\n",
              "          const docLink = document.createElement('div');\n",
              "          docLink.innerHTML = docLinkHtml;\n",
              "          element.appendChild(docLink);\n",
              "        }\n",
              "      </script>\n",
              "    </div>\n",
              "  </div>\n",
              "  "
            ]
          },
          "metadata": {},
          "execution_count": 33
        }
      ]
    },
    {
      "cell_type": "markdown",
      "source": [
        "### Variables Description "
      ],
      "metadata": {
        "id": "PBTbrJXOngz2"
      }
    },
    {
      "cell_type": "markdown",
      "source": [
        "Rented Bike count - Count of bikes rented at each hour"
      ],
      "metadata": {
        "id": "wBXp_hwNHLGw"
      }
    },
    {
      "cell_type": "markdown",
      "source": [
        "![image.png](data:image/png;base64,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)"
      ],
      "metadata": {
        "id": "gfoNAAC-nUe_"
      }
    },
    {
      "cell_type": "markdown",
      "source": [
        "### Check Unique Values for each variable."
      ],
      "metadata": {
        "id": "u3PMJOP6ngxN"
      }
    },
    {
      "cell_type": "code",
      "source": [
        "# Check Unique Values for each variable.\n",
        "bike_df.nunique().sort_values()"
      ],
      "metadata": {
        "id": "zms12Yq5n-jE",
        "colab": {
          "base_uri": "https://localhost:8080/"
        },
        "outputId": "b4bb661a-9dd8-4203-fb9a-315c69e5b448"
      },
      "execution_count": 34,
      "outputs": [
        {
          "output_type": "execute_result",
          "data": {
            "text/plain": [
              "Holiday                         2\n",
              "Functioning Day                 2\n",
              "Seasons                         4\n",
              "Hour                           24\n",
              "Snowfall (cm)                  51\n",
              "Rainfall(mm)                   61\n",
              "Wind speed (m/s)               65\n",
              "Humidity(%)                    90\n",
              "Solar Radiation (MJ/m2)       345\n",
              "Date                          365\n",
              "Temperature(°C)               546\n",
              "Dew point temperature(°C)     556\n",
              "Visibility (10m)             1789\n",
              "Rented Bike Count            2166\n",
              "dtype: int64"
            ]
          },
          "metadata": {},
          "execution_count": 34
        }
      ]
    },
    {
      "cell_type": "markdown",
      "source": [
        "## ***3. Data Vizualization, Storytelling & Experimenting with charts : Understand the relationships between variables***"
      ],
      "metadata": {
        "id": "GF8Ens_Soomf"
      }
    },
    {
      "cell_type": "markdown",
      "source": [
        "#### Chart - 1"
      ],
      "metadata": {
        "id": "0wOQAZs5pc--"
      }
    },
    {
      "cell_type": "code",
      "source": [
        "# Chart - 1 visualization code\n",
        "# Dependent variable \"Rented Bike Count\"\n",
        "sns.distplot(bike_df['Rented Bike Count'], color='green')"
      ],
      "metadata": {
        "id": "7v_ESjsspbW7",
        "colab": {
          "base_uri": "https://localhost:8080/",
          "height": 296
        },
        "outputId": "f7ac80c7-abf4-4bf2-f20d-b91cd908164b"
      },
      "execution_count": 39,
      "outputs": [
        {
          "output_type": "execute_result",
          "data": {
            "text/plain": [
              "<matplotlib.axes._subplots.AxesSubplot at 0x7f81c3b6a8e0>"
            ]
          },
          "metadata": {},
          "execution_count": 39
        },
        {
          "output_type": "display_data",
          "data": {
            "text/plain": [
              "<Figure size 432x288 with 1 Axes>"
            ],
            "image/png": "[encoded data removed]"
          },
          "metadata": {
            "needs_background": "light"
          }
        }
      ]
    },
    {
      "cell_type": "code",
      "source": [
        "#Square root tranformation\n",
        "sns.distplot(np.sqrt(bike_df['Rented Bike Count']), color='green')"
      ],
      "metadata": {
        "colab": {
          "base_uri": "https://localhost:8080/",
          "height": 296
        },
        "id": "VKlP9iiSlCjU",
        "outputId": "a4c5f9ca-5ea0-40d5-d91b-e3f2e1011ba4"
      },
      "execution_count": 43,
      "outputs": [
        {
          "output_type": "execute_result",
          "data": {
            "text/plain": [
              "<matplotlib.axes._subplots.AxesSubplot at 0x7f81c3784400>"
            ]
          },
          "metadata": {},
          "execution_count": 43
        },
        {
          "output_type": "display_data",
          "data": {
            "text/plain": [
              "<Figure size 432x288 with 1 Axes>"
            ],
            "image/png": "[encoded data removed]"
          },
          "metadata": {
            "needs_background": "light"
          }
        }
      ]
    },
    {
      "cell_type": "markdown",
      "source": [
        "##### 1. Why did you pick the specific chart?"
      ],
      "metadata": {
        "id": "K5QZ13OEpz2H"
      }
    },
    {
      "cell_type": "markdown",
      "source": [
        "Answer Here."
      ],
      "metadata": {
        "id": "XESiWehPqBRc"
      }
    },
    {
      "cell_type": "markdown",
      "source": [
        "##### 2. What is/are the insight(s) found from the chart?"
      ],
      "metadata": {
        "id": "lQ7QKXXCp7Bj"
      }
    },
    {
      "cell_type": "markdown",
      "source": [
        "Answer Here"
      ],
      "metadata": {
        "id": "C_j1G7yiqdRP"
      }
    },
    {
      "cell_type": "markdown",
      "source": [
        "##### 3. Will the gained insights help creating a positive business impact? \n",
        "Are there any insights that lead to negative growth? Justify with specific reason."
      ],
      "metadata": {
        "id": "448CDAPjqfQr"
      }
    },
    {
      "cell_type": "markdown",
      "source": [
        "Answer Here"
      ],
      "metadata": {
        "id": "3cspy4FjqxJW"
      }
    },
    {
      "cell_type": "markdown",
      "source": [
        "#### Chart - 2"
      ],
      "metadata": {
        "id": "KSlN3yHqYklG"
      }
    },
    {
      "cell_type": "code",
      "source": [
        "# Chart - 2 visualization code"
      ],
      "metadata": {
        "id": "R4YgtaqtYklH"
      },
      "execution_count": null,
      "outputs": []
    },
    {
      "cell_type": "markdown",
      "source": [
        "##### 1. Why did you pick the specific chart?"
      ],
      "metadata": {
        "id": "t6dVpIINYklI"
      }
    },
    {
      "cell_type": "markdown",
      "source": [
        "Answer Here."
      ],
      "metadata": {
        "id": "5aaW0BYyYklI"
      }
    },
    {
      "cell_type": "markdown",
      "source": [
        "##### 2. What is/are the insight(s) found from the chart?"
      ],
      "metadata": {
        "id": "ijmpgYnKYklI"
      }
    },
    {
      "cell_type": "markdown",
      "source": [
        "Answer Here"
      ],
      "metadata": {
        "id": "PSx9atu2YklI"
      }
    },
    {
      "cell_type": "markdown",
      "source": [
        "##### 3. Will the gained insights help creating a positive business impact? \n",
        "Are there any insights that lead to negative growth? Justify with specific reason."
      ],
      "metadata": {
        "id": "-JiQyfWJYklI"
      }
    },
    {
      "cell_type": "markdown",
      "source": [
        "Answer Here"
      ],
      "metadata": {
        "id": "BcBbebzrYklV"
      }
    },
    {
      "cell_type": "markdown",
      "source": [
        "#### Chart - 3"
      ],
      "metadata": {
        "id": "EM7whBJCYoAo"
      }
    },
    {
      "cell_type": "code",
      "source": [
        "# Chart - 3 visualization code"
      ],
      "metadata": {
        "id": "t6GMdE67YoAp"
      },
      "execution_count": null,
      "outputs": []
    },
    {
      "cell_type": "markdown",
      "source": [
        "##### 1. Why did you pick the specific chart?"
      ],
      "metadata": {
        "id": "fge-S5ZAYoAp"
      }
    },
    {
      "cell_type": "markdown",
      "source": [
        "Answer Here."
      ],
      "metadata": {
        "id": "5dBItgRVYoAp"
      }
    },
    {
      "cell_type": "markdown",
      "source": [
        "##### 2. What is/are the insight(s) found from the chart?"
      ],
      "metadata": {
        "id": "85gYPyotYoAp"
      }
    },
    {
      "cell_type": "markdown",
      "source": [
        "Answer Here"
      ],
      "metadata": {
        "id": "4jstXR6OYoAp"
      }
    },
    {
      "cell_type": "markdown",
      "source": [
        "##### 3. Will the gained insights help creating a positive business impact? \n",
        "Are there any insights that lead to negative growth? Justify with specific reason."
      ],
      "metadata": {
        "id": "RoGjAbkUYoAp"
      }
    },
    {
      "cell_type": "markdown",
      "source": [
        "Answer Here"
      ],
      "metadata": {
        "id": "zfJ8IqMcYoAp"
      }
    },
    {
      "cell_type": "markdown",
      "source": [
        "#### Chart - 4"
      ],
      "metadata": {
        "id": "4Of9eVA-YrdM"
      }
    },
    {
      "cell_type": "code",
      "source": [
        "# Chart - 4 visualization code"
      ],
      "metadata": {
        "id": "irlUoxc8YrdO"
      },
      "execution_count": null,
      "outputs": []
    },
    {
      "cell_type": "markdown",
      "source": [
        "##### 1. Why did you pick the specific chart?"
      ],
      "metadata": {
        "id": "iky9q4vBYrdO"
      }
    },
    {
      "cell_type": "markdown",
      "source": [
        "Answer Here."
      ],
      "metadata": {
        "id": "aJRCwT6DYrdO"
      }
    },
    {
      "cell_type": "markdown",
      "source": [
        "##### 2. What is/are the insight(s) found from the chart?"
      ],
      "metadata": {
        "id": "F6T5p64dYrdO"
      }
    },
    {
      "cell_type": "markdown",
      "source": [
        "Answer Here"
      ],
      "metadata": {
        "id": "Xx8WAJvtYrdO"
      }
    },
    {
      "cell_type": "markdown",
      "source": [
        "##### 3. Will the gained insights help creating a positive business impact? \n",
        "Are there any insights that lead to negative growth? Justify with specific reason."
      ],
      "metadata": {
        "id": "y-Ehk30pYrdP"
      }
    },
    {
      "cell_type": "markdown",
      "source": [
        "Answer Here"
      ],
      "metadata": {
        "id": "jLNxxz7MYrdP"
      }
    },
    {
      "cell_type": "markdown",
      "source": [
        "#### Chart - 5"
      ],
      "metadata": {
        "id": "bamQiAODYuh1"
      }
    },
    {
      "cell_type": "code",
      "source": [
        "# Chart - 5 visualization code"
      ],
      "metadata": {
        "id": "TIJwrbroYuh3"
      },
      "execution_count": null,
      "outputs": []
    },
    {
      "cell_type": "markdown",
      "source": [
        "##### 1. Why did you pick the specific chart?"
      ],
      "metadata": {
        "id": "QHF8YVU7Yuh3"
      }
    },
    {
      "cell_type": "markdown",
      "source": [
        "Answer Here."
      ],
      "metadata": {
        "id": "dcxuIMRPYuh3"
      }
    },
    {
      "cell_type": "markdown",
      "source": [
        "##### 2. What is/are the insight(s) found from the chart?"
      ],
      "metadata": {
        "id": "GwzvFGzlYuh3"
      }
    },
    {
      "cell_type": "markdown",
      "source": [
        "Answer Here"
      ],
      "metadata": {
        "id": "uyqkiB8YYuh3"
      }
    },
    {
      "cell_type": "markdown",
      "source": [
        "##### 3. Will the gained insights help creating a positive business impact? \n",
        "Are there any insights that lead to negative growth? Justify with specific reason."
      ],
      "metadata": {
        "id": "qYpmQ266Yuh3"
      }
    },
    {
      "cell_type": "markdown",
      "source": [
        "Answer Here"
      ],
      "metadata": {
        "id": "_WtzZ_hCYuh4"
      }
    },
    {
      "cell_type": "markdown",
      "source": [
        "#### Chart - 6"
      ],
      "metadata": {
        "id": "OH-pJp9IphqM"
      }
    },
    {
      "cell_type": "code",
      "source": [
        "# Chart - 6 visualization code"
      ],
      "metadata": {
        "id": "kuRf4wtuphqN"
      },
      "execution_count": null,
      "outputs": []
    },
    {
      "cell_type": "markdown",
      "source": [
        "##### 1. Why did you pick the specific chart?"
      ],
      "metadata": {
        "id": "bbFf2-_FphqN"
      }
    },
    {
      "cell_type": "markdown",
      "source": [
        "Answer Here."
      ],
      "metadata": {
        "id": "loh7H2nzphqN"
      }
    },
    {
      "cell_type": "markdown",
      "source": [
        "##### 2. What is/are the insight(s) found from the chart?"
      ],
      "metadata": {
        "id": "_ouA3fa0phqN"
      }
    },
    {
      "cell_type": "markdown",
      "source": [
        "Answer Here"
      ],
      "metadata": {
        "id": "VECbqPI7phqN"
      }
    },
    {
      "cell_type": "markdown",
      "source": [
        "##### 3. Will the gained insights help creating a positive business impact? \n",
        "Are there any insights that lead to negative growth? Justify with specific reason."
      ],
      "metadata": {
        "id": "Seke61FWphqN"
      }
    },
    {
      "cell_type": "markdown",
      "source": [
        "Answer Here"
      ],
      "metadata": {
        "id": "DW4_bGpfphqN"
      }
    },
    {
      "cell_type": "markdown",
      "source": [
        "#### Chart - 7"
      ],
      "metadata": {
        "id": "PIIx-8_IphqN"
      }
    },
    {
      "cell_type": "code",
      "source": [
        "# Chart - 7 visualization code"
      ],
      "metadata": {
        "id": "lqAIGUfyphqO"
      },
      "execution_count": null,
      "outputs": []
    },
    {
      "cell_type": "markdown",
      "source": [
        "##### 1. Why did you pick the specific chart?"
      ],
      "metadata": {
        "id": "t27r6nlMphqO"
      }
    },
    {
      "cell_type": "markdown",
      "source": [
        "Answer Here."
      ],
      "metadata": {
        "id": "iv6ro40sphqO"
      }
    },
    {
      "cell_type": "markdown",
      "source": [
        "##### 2. What is/are the insight(s) found from the chart?"
      ],
      "metadata": {
        "id": "r2jJGEOYphqO"
      }
    },
    {
      "cell_type": "markdown",
      "source": [
        "Answer Here"
      ],
      "metadata": {
        "id": "Po6ZPi4hphqO"
      }
    },
    {
      "cell_type": "markdown",
      "source": [
        "##### 3. Will the gained insights help creating a positive business impact? \n",
        "Are there any insights that lead to negative growth? Justify with specific reason."
      ],
      "metadata": {
        "id": "b0JNsNcRphqO"
      }
    },
    {
      "cell_type": "markdown",
      "source": [
        "Answer Here"
      ],
      "metadata": {
        "id": "xvSq8iUTphqO"
      }
    },
    {
      "cell_type": "markdown",
      "source": [
        "#### Chart - 8"
      ],
      "metadata": {
        "id": "BZR9WyysphqO"
      }
    },
    {
      "cell_type": "code",
      "source": [
        "# Chart - 8 visualization code"
      ],
      "metadata": {
        "id": "TdPTWpAVphqO"
      },
      "execution_count": null,
      "outputs": []
    },
    {
      "cell_type": "markdown",
      "source": [
        "##### 1. Why did you pick the specific chart?"
      ],
      "metadata": {
        "id": "jj7wYXLtphqO"
      }
    },
    {
      "cell_type": "markdown",
      "source": [
        "Answer Here."
      ],
      "metadata": {
        "id": "Ob8u6rCTphqO"
      }
    },
    {
      "cell_type": "markdown",
      "source": [
        "##### 2. What is/are the insight(s) found from the chart?"
      ],
      "metadata": {
        "id": "eZrbJ2SmphqO"
      }
    },
    {
      "cell_type": "markdown",
      "source": [
        "Answer Here"
      ],
      "metadata": {
        "id": "mZtgC_hjphqO"
      }
    },
    {
      "cell_type": "markdown",
      "source": [
        "##### 3. Will the gained insights help creating a positive business impact? \n",
        "Are there any insights that lead to negative growth? Justify with specific reason."
      ],
      "metadata": {
        "id": "rFu4xreNphqO"
      }
    },
    {
      "cell_type": "markdown",
      "source": [
        "Answer Here"
      ],
      "metadata": {
        "id": "ey_0qi68phqO"
      }
    },
    {
      "cell_type": "markdown",
      "source": [
        "#### Chart - 9"
      ],
      "metadata": {
        "id": "YJ55k-q6phqO"
      }
    },
    {
      "cell_type": "code",
      "source": [
        "# Chart - 9 visualization code"
      ],
      "metadata": {
        "id": "B2aS4O1ophqO"
      },
      "execution_count": null,
      "outputs": []
    },
    {
      "cell_type": "markdown",
      "source": [
        "##### 1. Why did you pick the specific chart?"
      ],
      "metadata": {
        "id": "gCFgpxoyphqP"
      }
    },
    {
      "cell_type": "markdown",
      "source": [
        "Answer Here."
      ],
      "metadata": {
        "id": "TVxDimi2phqP"
      }
    },
    {
      "cell_type": "markdown",
      "source": [
        "##### 2. What is/are the insight(s) found from the chart?"
      ],
      "metadata": {
        "id": "OVtJsKN_phqQ"
      }
    },
    {
      "cell_type": "markdown",
      "source": [
        "Answer Here"
      ],
      "metadata": {
        "id": "ngGi97qjphqQ"
      }
    },
    {
      "cell_type": "markdown",
      "source": [
        "##### 3. Will the gained insights help creating a positive business impact? \n",
        "Are there any insights that lead to negative growth? Justify with specific reason."
      ],
      "metadata": {
        "id": "lssrdh5qphqQ"
      }
    },
    {
      "cell_type": "markdown",
      "source": [
        "Answer Here"
      ],
      "metadata": {
        "id": "tBpY5ekJphqQ"
      }
    },
    {
      "cell_type": "markdown",
      "source": [
        "#### Chart - 10"
      ],
      "metadata": {
        "id": "U2RJ9gkRphqQ"
      }
    },
    {
      "cell_type": "code",
      "source": [
        "# Chart - 10 visualization code"
      ],
      "metadata": {
        "id": "GM7a4YP4phqQ"
      },
      "execution_count": null,
      "outputs": []
    },
    {
      "cell_type": "markdown",
      "source": [
        "##### 1. Why did you pick the specific chart?"
      ],
      "metadata": {
        "id": "1M8mcRywphqQ"
      }
    },
    {
      "cell_type": "markdown",
      "source": [
        "Answer Here."
      ],
      "metadata": {
        "id": "8agQvks0phqQ"
      }
    },
    {
      "cell_type": "markdown",
      "source": [
        "##### 2. What is/are the insight(s) found from the chart?"
      ],
      "metadata": {
        "id": "tgIPom80phqQ"
      }
    },
    {
      "cell_type": "markdown",
      "source": [
        "Answer Here"
      ],
      "metadata": {
        "id": "Qp13pnNzphqQ"
      }
    },
    {
      "cell_type": "markdown",
      "source": [
        "##### 3. Will the gained insights help creating a positive business impact? \n",
        "Are there any insights that lead to negative growth? Justify with specific reason."
      ],
      "metadata": {
        "id": "JMzcOPDDphqR"
      }
    },
    {
      "cell_type": "markdown",
      "source": [
        "Answer Here"
      ],
      "metadata": {
        "id": "R4Ka1PC2phqR"
      }
    },
    {
      "cell_type": "markdown",
      "source": [
        "#### Chart - 11"
      ],
      "metadata": {
        "id": "x-EpHcCOp1ci"
      }
    },
    {
      "cell_type": "code",
      "source": [
        "# Chart - 11 visualization code"
      ],
      "metadata": {
        "id": "mAQTIvtqp1cj"
      },
      "execution_count": null,
      "outputs": []
    },
    {
      "cell_type": "markdown",
      "source": [
        "##### 1. Why did you pick the specific chart?"
      ],
      "metadata": {
        "id": "X_VqEhTip1ck"
      }
    },
    {
      "cell_type": "markdown",
      "source": [
        "Answer Here."
      ],
      "metadata": {
        "id": "-vsMzt_np1ck"
      }
    },
    {
      "cell_type": "markdown",
      "source": [
        "##### 2. What is/are the insight(s) found from the chart?"
      ],
      "metadata": {
        "id": "8zGJKyg5p1ck"
      }
    },
    {
      "cell_type": "markdown",
      "source": [
        "Answer Here"
      ],
      "metadata": {
        "id": "ZYdMsrqVp1ck"
      }
    },
    {
      "cell_type": "markdown",
      "source": [
        "##### 3. Will the gained insights help creating a positive business impact? \n",
        "Are there any insights that lead to negative growth? Justify with specific reason."
      ],
      "metadata": {
        "id": "PVzmfK_Ep1ck"
      }
    },
    {
      "cell_type": "markdown",
      "source": [
        "Answer Here"
      ],
      "metadata": {
        "id": "druuKYZpp1ck"
      }
    },
    {
      "cell_type": "markdown",
      "source": [
        "#### Chart - 12"
      ],
      "metadata": {
        "id": "n3dbpmDWp1ck"
      }
    },
    {
      "cell_type": "code",
      "source": [
        "# Chart - 12 visualization code"
      ],
      "metadata": {
        "id": "bwevp1tKp1ck"
      },
      "execution_count": null,
      "outputs": []
    },
    {
      "cell_type": "markdown",
      "source": [
        "##### 1. Why did you pick the specific chart?"
      ],
      "metadata": {
        "id": "ylSl6qgtp1ck"
      }
    },
    {
      "cell_type": "markdown",
      "source": [
        "Answer Here."
      ],
      "metadata": {
        "id": "m2xqNkiQp1ck"
      }
    },
    {
      "cell_type": "markdown",
      "source": [
        "##### 2. What is/are the insight(s) found from the chart?"
      ],
      "metadata": {
        "id": "ZWILFDl5p1ck"
      }
    },
    {
      "cell_type": "markdown",
      "source": [
        "Answer Here"
      ],
      "metadata": {
        "id": "x-lUsV2mp1ck"
      }
    },
    {
      "cell_type": "markdown",
      "source": [
        "##### 3. Will the gained insights help creating a positive business impact? \n",
        "Are there any insights that lead to negative growth? Justify with specific reason."
      ],
      "metadata": {
        "id": "M7G43BXep1ck"
      }
    },
    {
      "cell_type": "markdown",
      "source": [
        "Answer Here"
      ],
      "metadata": {
        "id": "5wwDJXsLp1cl"
      }
    },
    {
      "cell_type": "markdown",
      "source": [
        "#### Chart - 13"
      ],
      "metadata": {
        "id": "Ag9LCva-p1cl"
      }
    },
    {
      "cell_type": "code",
      "source": [
        "# Chart - 13 visualization code"
      ],
      "metadata": {
        "id": "EUfxeq9-p1cl"
      },
      "execution_count": null,
      "outputs": []
    },
    {
      "cell_type": "markdown",
      "source": [
        "##### 1. Why did you pick the specific chart?"
      ],
      "metadata": {
        "id": "E6MkPsBcp1cl"
      }
    },
    {
      "cell_type": "markdown",
      "source": [
        "Answer Here."
      ],
      "metadata": {
        "id": "V22bRsFWp1cl"
      }
    },
    {
      "cell_type": "markdown",
      "source": [
        "##### 2. What is/are the insight(s) found from the chart?"
      ],
      "metadata": {
        "id": "2cELzS2fp1cl"
      }
    },
    {
      "cell_type": "markdown",
      "source": [
        "Answer Here"
      ],
      "metadata": {
        "id": "ozQPc2_Ip1cl"
      }
    },
    {
      "cell_type": "markdown",
      "source": [
        "##### 3. Will the gained insights help creating a positive business impact? \n",
        "Are there any insights that lead to negative growth? Justify with specific reason."
      ],
      "metadata": {
        "id": "3MPXvC8up1cl"
      }
    },
    {
      "cell_type": "markdown",
      "source": [
        "Answer Here"
      ],
      "metadata": {
        "id": "GL8l1tdLp1cl"
      }
    },
    {
      "cell_type": "markdown",
      "source": [
        "#### Chart - 14 - Correlation Heatmap"
      ],
      "metadata": {
        "id": "NC_X3p0fY2L0"
      }
    },
    {
      "cell_type": "code",
      "source": [
        "# Correlation Heatmap visualization code"
      ],
      "metadata": {
        "id": "xyC9zolEZNRQ"
      },
      "execution_count": null,
      "outputs": []
    },
    {
      "cell_type": "markdown",
      "source": [
        "##### 1. Why did you pick the specific chart?"
      ],
      "metadata": {
        "id": "UV0SzAkaZNRQ"
      }
    },
    {
      "cell_type": "markdown",
      "source": [
        "Answer Here."
      ],
      "metadata": {
        "id": "DVPuT8LYZNRQ"
      }
    },
    {
      "cell_type": "markdown",
      "source": [
        "##### 2. What is/are the insight(s) found from the chart?"
      ],
      "metadata": {
        "id": "YPEH6qLeZNRQ"
      }
    },
    {
      "cell_type": "markdown",
      "source": [
        "Answer Here"
      ],
      "metadata": {
        "id": "bfSqtnDqZNRR"
      }
    },
    {
      "cell_type": "markdown",
      "source": [
        "#### Chart - 15 - Pair Plot "
      ],
      "metadata": {
        "id": "q29F0dvdveiT"
      }
    },
    {
      "cell_type": "code",
      "source": [
        "# Pair Plot visualization code"
      ],
      "metadata": {
        "id": "o58-TEIhveiU"
      },
      "execution_count": null,
      "outputs": []
    },
    {
      "cell_type": "markdown",
      "source": [
        "##### 1. Why did you pick the specific chart?"
      ],
      "metadata": {
        "id": "EXh0U9oCveiU"
      }
    },
    {
      "cell_type": "markdown",
      "source": [
        "Answer Here."
      ],
      "metadata": {
        "id": "eMmPjTByveiU"
      }
    },
    {
      "cell_type": "markdown",
      "source": [
        "##### 2. What is/are the insight(s) found from the chart?"
      ],
      "metadata": {
        "id": "22aHeOlLveiV"
      }
    },
    {
      "cell_type": "markdown",
      "source": [
        "Answer Here"
      ],
      "metadata": {
        "id": "uPQ8RGwHveiV"
      }
    },
    {
      "cell_type": "markdown",
      "source": [
        "## 4. ***Data Prepration***"
      ],
      "metadata": {
        "id": "dauF4eBmngu3"
      }
    },
    {
      "cell_type": "markdown",
      "source": [
        "### Data Wrangling Code"
      ],
      "metadata": {
        "id": "bKJF3rekwFvQ"
      }
    },
    {
      "cell_type": "code",
      "source": [
        "# Write your code to make your dataset analysis ready."
      ],
      "metadata": {
        "id": "wk-9a2fpoLcV"
      },
      "execution_count": null,
      "outputs": []
    },
    {
      "cell_type": "markdown",
      "source": [
        "### What all manipulations have you done and insights you found?"
      ],
      "metadata": {
        "id": "MSa1f5Uengrz"
      }
    },
    {
      "cell_type": "markdown",
      "source": [
        "Answer Here."
      ],
      "metadata": {
        "id": "LbyXE7I1olp8"
      }
    },
    {
      "cell_type": "markdown",
      "source": [
        "## ***5. Hypothesis Testing***"
      ],
      "metadata": {
        "id": "g-ATYxFrGrvw"
      }
    },
    {
      "cell_type": "markdown",
      "source": [
        "### Based on your chart experiments, define three hypothetical statements from the dataset. In the next three questions, perform hypothesis testing to obtain final conclusion about the statements through your code and statistical testing."
      ],
      "metadata": {
        "id": "Yfr_Vlr8HBkt"
      }
    },
    {
      "cell_type": "markdown",
      "source": [
        "Answer Here."
      ],
      "metadata": {
        "id": "-7MS06SUHkB-"
      }
    },
    {
      "cell_type": "markdown",
      "source": [
        "### Hypothetical Statement - 1"
      ],
      "metadata": {
        "id": "8yEUt7NnHlrM"
      }
    },
    {
      "cell_type": "markdown",
      "source": [
        "#### 1. State Your research hypothesis as a null hypothesis and alternate hypothesis."
      ],
      "metadata": {
        "id": "tEA2Xm5dHt1r"
      }
    },
    {
      "cell_type": "markdown",
      "source": [
        "Answer Here."
      ],
      "metadata": {
        "id": "HI9ZP0laH0D-"
      }
    },
    {
      "cell_type": "markdown",
      "source": [
        "#### 2. Perform an appropriate statistical test."
      ],
      "metadata": {
        "id": "I79__PHVH19G"
      }
    },
    {
      "cell_type": "code",
      "source": [
        "# Perform Statistical Test to obtain P-Value"
      ],
      "metadata": {
        "id": "oZrfquKtyian"
      },
      "execution_count": null,
      "outputs": []
    },
    {
      "cell_type": "markdown",
      "source": [
        "##### Which statistical test have you done to obtain P-Value?"
      ],
      "metadata": {
        "id": "Ou-I18pAyIpj"
      }
    },
    {
      "cell_type": "markdown",
      "source": [
        "Answer Here."
      ],
      "metadata": {
        "id": "s2U0kk00ygSB"
      }
    },
    {
      "cell_type": "markdown",
      "source": [
        "##### Why did you choose the specific statistical test?"
      ],
      "metadata": {
        "id": "fF3858GYyt-u"
      }
    },
    {
      "cell_type": "markdown",
      "source": [
        "Answer Here."
      ],
      "metadata": {
        "id": "HO4K0gP5y3B4"
      }
    },
    {
      "cell_type": "markdown",
      "source": [
        "### Hypothetical Statement - 2"
      ],
      "metadata": {
        "id": "4_0_7-oCpUZd"
      }
    },
    {
      "cell_type": "markdown",
      "source": [
        "#### 1. State Your research hypothesis as a null hypothesis and alternate hypothesis."
      ],
      "metadata": {
        "id": "hwyV_J3ipUZe"
      }
    },
    {
      "cell_type": "markdown",
      "source": [
        "Answer Here."
      ],
      "metadata": {
        "id": "FnpLGJ-4pUZe"
      }
    },
    {
      "cell_type": "markdown",
      "source": [
        "#### 2. Perform an appropriate statistical test."
      ],
      "metadata": {
        "id": "3yB-zSqbpUZe"
      }
    },
    {
      "cell_type": "code",
      "source": [
        "# Perform Statistical Test to obtain P-Value"
      ],
      "metadata": {
        "id": "sWxdNTXNpUZe"
      },
      "execution_count": null,
      "outputs": []
    },
    {
      "cell_type": "markdown",
      "source": [
        "##### Which statistical test have you done to obtain P-Value?"
      ],
      "metadata": {
        "id": "dEUvejAfpUZe"
      }
    },
    {
      "cell_type": "markdown",
      "source": [
        "Answer Here."
      ],
      "metadata": {
        "id": "oLDrPz7HpUZf"
      }
    },
    {
      "cell_type": "markdown",
      "source": [
        "##### Why did you choose the specific statistical test?"
      ],
      "metadata": {
        "id": "Fd15vwWVpUZf"
      }
    },
    {
      "cell_type": "markdown",
      "source": [
        "Answer Here."
      ],
      "metadata": {
        "id": "4xOGYyiBpUZf"
      }
    },
    {
      "cell_type": "markdown",
      "source": [
        "### Hypothetical Statement - 3"
      ],
      "metadata": {
        "id": "bn_IUdTipZyH"
      }
    },
    {
      "cell_type": "markdown",
      "source": [
        "#### 1. State Your research hypothesis as a null hypothesis and alternate hypothesis."
      ],
      "metadata": {
        "id": "49K5P_iCpZyH"
      }
    },
    {
      "cell_type": "markdown",
      "source": [
        "Answer Here."
      ],
      "metadata": {
        "id": "7gWI5rT9pZyH"
      }
    },
    {
      "cell_type": "markdown",
      "source": [
        "#### 2. Perform an appropriate statistical test."
      ],
      "metadata": {
        "id": "Nff-vKELpZyI"
      }
    },
    {
      "cell_type": "code",
      "source": [
        "# Perform Statistical Test to obtain P-Value"
      ],
      "metadata": {
        "id": "s6AnJQjtpZyI"
      },
      "execution_count": null,
      "outputs": []
    },
    {
      "cell_type": "markdown",
      "source": [
        "##### Which statistical test have you done to obtain P-Value?"
      ],
      "metadata": {
        "id": "kLW572S8pZyI"
      }
    },
    {
      "cell_type": "markdown",
      "source": [
        "Answer Here."
      ],
      "metadata": {
        "id": "ytWJ8v15pZyI"
      }
    },
    {
      "cell_type": "markdown",
      "source": [
        "##### Why did you choose the specific statistical test?"
      ],
      "metadata": {
        "id": "dWbDXHzopZyI"
      }
    },
    {
      "cell_type": "markdown",
      "source": [
        "Answer Here."
      ],
      "metadata": {
        "id": "M99G98V6pZyI"
      }
    },
    {
      "cell_type": "markdown",
      "source": [
        "## ***6. Feature Engineering & Data Pre-processing***"
      ],
      "metadata": {
        "id": "yLjJCtPM0KBk"
      }
    },
    {
      "cell_type": "markdown",
      "source": [
        "### 1. Handling Missing Values"
      ],
      "metadata": {
        "id": "xiyOF9F70UgQ"
      }
    },
    {
      "cell_type": "code",
      "source": [
        "# Handling Missing Values & Missing Value Imputation"
      ],
      "metadata": {
        "id": "iRsAHk1K0fpS"
      },
      "execution_count": null,
      "outputs": []
    },
    {
      "cell_type": "markdown",
      "source": [
        "#### What all missing value imputation techniques have you used and why did you use those techniques?"
      ],
      "metadata": {
        "id": "7wuGOrhz0itI"
      }
    },
    {
      "cell_type": "markdown",
      "source": [
        "Answer Here."
      ],
      "metadata": {
        "id": "1ixusLtI0pqI"
      }
    },
    {
      "cell_type": "markdown",
      "source": [
        "### 2. Handling Outliers"
      ],
      "metadata": {
        "id": "id1riN9m0vUs"
      }
    },
    {
      "cell_type": "code",
      "source": [
        "# Handling Outliers & Outlier treatments"
      ],
      "metadata": {
        "id": "M6w2CzZf04JK"
      },
      "execution_count": null,
      "outputs": []
    },
    {
      "cell_type": "markdown",
      "source": [
        "##### What all outlier treatment techniques have you used and why did you use those techniques?"
      ],
      "metadata": {
        "id": "578E2V7j08f6"
      }
    },
    {
      "cell_type": "markdown",
      "source": [
        "Answer Here."
      ],
      "metadata": {
        "id": "uGZz5OrT1HH-"
      }
    },
    {
      "cell_type": "markdown",
      "source": [
        "### 3. Categorical Encoding"
      ],
      "metadata": {
        "id": "89xtkJwZ18nB"
      }
    },
    {
      "cell_type": "code",
      "source": [
        "# Encode your categorical columns"
      ],
      "metadata": {
        "id": "21JmIYMG2hEo"
      },
      "execution_count": null,
      "outputs": []
    },
    {
      "cell_type": "markdown",
      "source": [
        "#### What all categorical encoding techniques have you used & why did you use those techniques?"
      ],
      "metadata": {
        "id": "67NQN5KX2AMe"
      }
    },
    {
      "cell_type": "markdown",
      "source": [
        "Answer Here."
      ],
      "metadata": {
        "id": "UDaue5h32n_G"
      }
    },
    {
      "cell_type": "markdown",
      "source": [
        "### 4. Textual Data Preprocessing \n",
        "(It's mandatory for textual dataset i.e., NLP, Sentiment Analysis, Text Clustering etc.)"
      ],
      "metadata": {
        "id": "Iwf50b-R2tYG"
      }
    },
    {
      "cell_type": "markdown",
      "source": [
        "#### 1. Expand Contraction"
      ],
      "metadata": {
        "id": "GMQiZwjn3iu7"
      }
    },
    {
      "cell_type": "code",
      "source": [
        "# Expand Contraction"
      ],
      "metadata": {
        "id": "PTouz10C3oNN"
      },
      "execution_count": null,
      "outputs": []
    },
    {
      "cell_type": "markdown",
      "source": [
        "#### 2. Lower Casing"
      ],
      "metadata": {
        "id": "WVIkgGqN3qsr"
      }
    },
    {
      "cell_type": "code",
      "source": [
        "# Lower Casing"
      ],
      "metadata": {
        "id": "88JnJ1jN3w7j"
      },
      "execution_count": null,
      "outputs": []
    },
    {
      "cell_type": "markdown",
      "source": [
        "#### 3. Removing Punctuations"
      ],
      "metadata": {
        "id": "XkPnILGE3zoT"
      }
    },
    {
      "cell_type": "code",
      "source": [
        "# Remove Punctuations"
      ],
      "metadata": {
        "id": "vqbBqNaA33c0"
      },
      "execution_count": null,
      "outputs": []
    },
    {
      "cell_type": "markdown",
      "source": [
        "#### 4. Removing URLs & Removing words and digits contain digits."
      ],
      "metadata": {
        "id": "Hlsf0x5436Go"
      }
    },
    {
      "cell_type": "code",
      "source": [
        "# Remove URLs & Remove words and digits contain digits"
      ],
      "metadata": {
        "id": "2sxKgKxu4Ip3"
      },
      "execution_count": null,
      "outputs": []
    },
    {
      "cell_type": "markdown",
      "source": [
        "#### 5. Removing Stopwords & Removing White spaces"
      ],
      "metadata": {
        "id": "mT9DMSJo4nBL"
      }
    },
    {
      "cell_type": "code",
      "source": [
        "# Remove Stopwords"
      ],
      "metadata": {
        "id": "T2LSJh154s8W"
      },
      "execution_count": null,
      "outputs": []
    },
    {
      "cell_type": "code",
      "source": [
        "# Remove White spaces"
      ],
      "metadata": {
        "id": "EgLJGffy4vm0"
      },
      "execution_count": null,
      "outputs": []
    },
    {
      "cell_type": "markdown",
      "source": [
        "#### 6. Rephrase Text"
      ],
      "metadata": {
        "id": "c49ITxTc407N"
      }
    },
    {
      "cell_type": "code",
      "source": [
        "# Rephrase Text"
      ],
      "metadata": {
        "id": "foqY80Qu48N2"
      },
      "execution_count": null,
      "outputs": []
    },
    {
      "cell_type": "markdown",
      "source": [
        "#### 7. Tokenization"
      ],
      "metadata": {
        "id": "OeJFEK0N496M"
      }
    },
    {
      "cell_type": "code",
      "source": [
        "# Tokenization"
      ],
      "metadata": {
        "id": "ijx1rUOS5CUU"
      },
      "execution_count": null,
      "outputs": []
    },
    {
      "cell_type": "markdown",
      "source": [
        "#### 8. Text Normalization"
      ],
      "metadata": {
        "id": "9ExmJH0g5HBk"
      }
    },
    {
      "cell_type": "code",
      "source": [
        "# Normalizing Text (i.e., Stemming, Lemmatization etc.)"
      ],
      "metadata": {
        "id": "AIJ1a-Zc5PY8"
      },
      "execution_count": null,
      "outputs": []
    },
    {
      "cell_type": "markdown",
      "source": [
        "##### Which text normalization technique have you used and why?"
      ],
      "metadata": {
        "id": "cJNqERVU536h"
      }
    },
    {
      "cell_type": "markdown",
      "source": [
        "Answer Here."
      ],
      "metadata": {
        "id": "Z9jKVxE06BC1"
      }
    },
    {
      "cell_type": "markdown",
      "source": [
        "#### 9. Part of speech tagging"
      ],
      "metadata": {
        "id": "k5UmGsbsOxih"
      }
    },
    {
      "cell_type": "code",
      "source": [
        "# POS Taging"
      ],
      "metadata": {
        "id": "btT3ZJBAO6Ik"
      },
      "execution_count": null,
      "outputs": []
    },
    {
      "cell_type": "markdown",
      "source": [
        "#### 10. Text Vectorization"
      ],
      "metadata": {
        "id": "T0VqWOYE6DLQ"
      }
    },
    {
      "cell_type": "code",
      "source": [
        "# Vectorizing Text"
      ],
      "metadata": {
        "id": "yBRtdhth6JDE"
      },
      "execution_count": null,
      "outputs": []
    },
    {
      "cell_type": "markdown",
      "source": [
        "##### Which text vectorization technique have you used and why?"
      ],
      "metadata": {
        "id": "qBMux9mC6MCf"
      }
    },
    {
      "cell_type": "markdown",
      "source": [
        "Answer Here."
      ],
      "metadata": {
        "id": "su2EnbCh6UKQ"
      }
    },
    {
      "cell_type": "markdown",
      "source": [
        "### 4. Feature Manipulation & Selection"
      ],
      "metadata": {
        "id": "-oLEiFgy-5Pf"
      }
    },
    {
      "cell_type": "markdown",
      "source": [
        "#### 1. Feature Manipulation"
      ],
      "metadata": {
        "id": "C74aWNz2AliB"
      }
    },
    {
      "cell_type": "code",
      "source": [
        "# Manipulate Features to minimize feature correlation and create new features"
      ],
      "metadata": {
        "id": "h1qC4yhBApWC"
      },
      "execution_count": null,
      "outputs": []
    },
    {
      "cell_type": "markdown",
      "source": [
        "#### 2. Feature Selection"
      ],
      "metadata": {
        "id": "2DejudWSA-a0"
      }
    },
    {
      "cell_type": "code",
      "source": [
        "# Select your features wisely to avoid overfitting"
      ],
      "metadata": {
        "id": "YLhe8UmaBCEE"
      },
      "execution_count": null,
      "outputs": []
    },
    {
      "cell_type": "markdown",
      "source": [
        "##### What all feature selection methods have you used  and why?"
      ],
      "metadata": {
        "id": "pEMng2IbBLp7"
      }
    },
    {
      "cell_type": "markdown",
      "source": [
        "Answer Here."
      ],
      "metadata": {
        "id": "rb2Lh6Z8BgGs"
      }
    },
    {
      "cell_type": "markdown",
      "source": [
        "##### Which all features you found important and why?"
      ],
      "metadata": {
        "id": "rAdphbQ9Bhjc"
      }
    },
    {
      "cell_type": "markdown",
      "source": [
        "Answer Here."
      ],
      "metadata": {
        "id": "fGgaEstsBnaf"
      }
    },
    {
      "cell_type": "markdown",
      "source": [
        "### 5. Data Transformation"
      ],
      "metadata": {
        "id": "TNVZ9zx19K6k"
      }
    },
    {
      "cell_type": "markdown",
      "source": [
        "#### Do you think that your data needs to be transformed? If yes, which transformation have you used. Explain Why?"
      ],
      "metadata": {
        "id": "nqoHp30x9hH9"
      }
    },
    {
      "cell_type": "code",
      "source": [
        "# Transform Your data"
      ],
      "metadata": {
        "id": "I6quWQ1T9rtH"
      },
      "execution_count": null,
      "outputs": []
    },
    {
      "cell_type": "markdown",
      "source": [
        "### 6. Data Scaling"
      ],
      "metadata": {
        "id": "rMDnDkt2B6du"
      }
    },
    {
      "cell_type": "code",
      "source": [
        "# Scaling your data"
      ],
      "metadata": {
        "id": "dL9LWpySC6x_"
      },
      "execution_count": null,
      "outputs": []
    },
    {
      "cell_type": "markdown",
      "source": [
        "##### Which method have you used to scale you data and why?"
      ],
      "metadata": {
        "id": "yiiVWRdJDDil"
      }
    },
    {
      "cell_type": "markdown",
      "source": [
        "### 7. Dimesionality Reduction"
      ],
      "metadata": {
        "id": "1UUpS68QDMuG"
      }
    },
    {
      "cell_type": "markdown",
      "source": [
        "##### Do you think that dimensionality reduction is needed? Explain Why?"
      ],
      "metadata": {
        "id": "kexQrXU-DjzY"
      }
    },
    {
      "cell_type": "markdown",
      "source": [
        "Answer Here."
      ],
      "metadata": {
        "id": "GGRlBsSGDtTQ"
      }
    },
    {
      "cell_type": "code",
      "source": [
        "# DImensionality Reduction (If needed)"
      ],
      "metadata": {
        "id": "kQfvxBBHDvCa"
      },
      "execution_count": null,
      "outputs": []
    },
    {
      "cell_type": "markdown",
      "source": [
        "##### Which dimensionality reduction technique have you used and why? (If dimensionality reduction done on dataset.)"
      ],
      "metadata": {
        "id": "T5CmagL3EC8N"
      }
    },
    {
      "cell_type": "markdown",
      "source": [
        "Answer Here."
      ],
      "metadata": {
        "id": "ZKr75IDuEM7t"
      }
    },
    {
      "cell_type": "markdown",
      "source": [
        "### 8. Data Splitting"
      ],
      "metadata": {
        "id": "BhH2vgX9EjGr"
      }
    },
    {
      "cell_type": "code",
      "source": [
        "# Split your data to train and test. Choose Splitting ratio wisely."
      ],
      "metadata": {
        "id": "0CTyd2UwEyNM"
      },
      "execution_count": null,
      "outputs": []
    },
    {
      "cell_type": "markdown",
      "source": [
        "##### What data splitting ratio have you used and why? "
      ],
      "metadata": {
        "id": "qjKvONjwE8ra"
      }
    },
    {
      "cell_type": "markdown",
      "source": [
        "Answer Here."
      ],
      "metadata": {
        "id": "Y2lJ8cobFDb_"
      }
    },
    {
      "cell_type": "markdown",
      "source": [
        "### 9. Handling Imbalanced Dataset"
      ],
      "metadata": {
        "id": "P1XJ9OREExlT"
      }
    },
    {
      "cell_type": "markdown",
      "source": [
        "##### Do you think the dataset is imbalanced? Explain Why."
      ],
      "metadata": {
        "id": "VFOzZv6IFROw"
      }
    },
    {
      "cell_type": "markdown",
      "source": [
        "Answer Here."
      ],
      "metadata": {
        "id": "GeKDIv7pFgcC"
      }
    },
    {
      "cell_type": "code",
      "source": [
        "# Handling Imbalanced Dataset (If needed)"
      ],
      "metadata": {
        "id": "nQsRhhZLFiDs"
      },
      "execution_count": null,
      "outputs": []
    },
    {
      "cell_type": "markdown",
      "source": [
        "##### What technique did you use to handle the imbalance dataset and why? (If needed to be balanced)"
      ],
      "metadata": {
        "id": "TIqpNgepFxVj"
      }
    },
    {
      "cell_type": "markdown",
      "source": [
        "Answer Here."
      ],
      "metadata": {
        "id": "qbet1HwdGDTz"
      }
    },
    {
      "cell_type": "markdown",
      "source": [
        "## ***7. ML Model Implementation***"
      ],
      "metadata": {
        "id": "VfCC591jGiD4"
      }
    },
    {
      "cell_type": "markdown",
      "source": [
        "### ML Model - 1"
      ],
      "metadata": {
        "id": "OB4l2ZhMeS1U"
      }
    },
    {
      "cell_type": "code",
      "source": [
        "# ML Model - 1 Implementation\n",
        "\n",
        "# Fit the Algorithm\n",
        "\n",
        "# Predict on the model"
      ],
      "metadata": {
        "id": "7ebyywQieS1U"
      },
      "execution_count": null,
      "outputs": []
    },
    {
      "cell_type": "markdown",
      "source": [
        "#### 1. Explain the ML Model used and it's performance using Evaluation metric Score Chart."
      ],
      "metadata": {
        "id": "ArJBuiUVfxKd"
      }
    },
    {
      "cell_type": "code",
      "source": [
        "# Visualizing evaluation Metric Score chart"
      ],
      "metadata": {
        "id": "rqD5ZohzfxKe"
      },
      "execution_count": null,
      "outputs": []
    },
    {
      "cell_type": "markdown",
      "source": [
        "#### 2. Cross- Validation & Hyperparameter Tuning"
      ],
      "metadata": {
        "id": "4qY1EAkEfxKe"
      }
    },
    {
      "cell_type": "code",
      "source": [
        "# ML Model - 1 Implementation with hyperparameter optimization techniques (i.e., GridSearch CV, RandomSearch CV, Bayesian Optimization etc.)\n",
        "\n",
        "# Fit the Algorithm\n",
        "\n",
        "# Predict on the model"
      ],
      "metadata": {
        "id": "Dy61ujd6fxKe"
      },
      "execution_count": null,
      "outputs": []
    },
    {
      "cell_type": "markdown",
      "source": [
        "##### Which hyperparameter optimization technique have you used and why?"
      ],
      "metadata": {
        "id": "PiV4Ypx8fxKe"
      }
    },
    {
      "cell_type": "markdown",
      "source": [
        "Answer Here."
      ],
      "metadata": {
        "id": "negyGRa7fxKf"
      }
    },
    {
      "cell_type": "markdown",
      "source": [
        "##### Have you seen any improvement? Note down the improvement with updates Evaluation metric Score Chart."
      ],
      "metadata": {
        "id": "TfvqoZmBfxKf"
      }
    },
    {
      "cell_type": "markdown",
      "source": [
        "Answer Here."
      ],
      "metadata": {
        "id": "OaLui8CcfxKf"
      }
    },
    {
      "cell_type": "markdown",
      "source": [
        "### ML Model - 2"
      ],
      "metadata": {
        "id": "dJ2tPlVmpsJ0"
      }
    },
    {
      "cell_type": "markdown",
      "source": [
        "#### 1. Explain the ML Model used and it's performance using Evaluation metric Score Chart."
      ],
      "metadata": {
        "id": "JWYfwnehpsJ1"
      }
    },
    {
      "cell_type": "code",
      "source": [
        "# Visualizing evaluation Metric Score chart"
      ],
      "metadata": {
        "id": "yEl-hgQWpsJ1"
      },
      "execution_count": null,
      "outputs": []
    },
    {
      "cell_type": "markdown",
      "source": [
        "#### 2. Cross- Validation & Hyperparameter Tuning"
      ],
      "metadata": {
        "id": "-jK_YjpMpsJ2"
      }
    },
    {
      "cell_type": "code",
      "source": [
        "# ML Model - 1 Implementation with hyperparameter optimization techniques (i.e., GridSearch CV, RandomSearch CV, Bayesian Optimization etc.)\n",
        "\n",
        "# Fit the Algorithm\n",
        "\n",
        "# Predict on the model"
      ],
      "metadata": {
        "id": "Dn0EOfS6psJ2"
      },
      "execution_count": null,
      "outputs": []
    },
    {
      "cell_type": "markdown",
      "source": [
        "##### Which hyperparameter optimization technique have you used and why?"
      ],
      "metadata": {
        "id": "HAih1iBOpsJ2"
      }
    },
    {
      "cell_type": "markdown",
      "source": [
        "Answer Here."
      ],
      "metadata": {
        "id": "9kBgjYcdpsJ2"
      }
    },
    {
      "cell_type": "markdown",
      "source": [
        "##### Have you seen any improvement? Note down the improvement with updates Evaluation metric Score Chart."
      ],
      "metadata": {
        "id": "zVGeBEFhpsJ2"
      }
    },
    {
      "cell_type": "markdown",
      "source": [
        "Answer Here."
      ],
      "metadata": {
        "id": "74yRdG6UpsJ3"
      }
    },
    {
      "cell_type": "markdown",
      "source": [
        "#### 3. Explain each evaluation metric's indication towards business and the business impact pf the ML model used."
      ],
      "metadata": {
        "id": "bmKjuQ-FpsJ3"
      }
    },
    {
      "cell_type": "markdown",
      "source": [
        "Answer Here."
      ],
      "metadata": {
        "id": "BDKtOrBQpsJ3"
      }
    },
    {
      "cell_type": "markdown",
      "source": [
        "### ML Model - 3"
      ],
      "metadata": {
        "id": "Fze-IPXLpx6K"
      }
    },
    {
      "cell_type": "code",
      "source": [
        "# ML Model - 3 Implementation\n",
        "\n",
        "# Fit the Algorithm\n",
        "\n",
        "# Predict on the model"
      ],
      "metadata": {
        "id": "FFrSXAtrpx6M"
      },
      "execution_count": null,
      "outputs": []
    },
    {
      "cell_type": "markdown",
      "source": [
        "#### 1. Explain the ML Model used and it's performance using Evaluation metric Score Chart."
      ],
      "metadata": {
        "id": "7AN1z2sKpx6M"
      }
    },
    {
      "cell_type": "code",
      "source": [
        "# Visualizing evaluation Metric Score chart"
      ],
      "metadata": {
        "id": "xIY4lxxGpx6M"
      },
      "execution_count": null,
      "outputs": []
    },
    {
      "cell_type": "markdown",
      "source": [
        "#### 2. Cross- Validation & Hyperparameter Tuning"
      ],
      "metadata": {
        "id": "9PIHJqyupx6M"
      }
    },
    {
      "cell_type": "code",
      "source": [
        "# ML Model - 3 Implementation with hyperparameter optimization techniques (i.e., GridSearch CV, RandomSearch CV, Bayesian Optimization etc.)\n",
        "\n",
        "# Fit the Algorithm\n",
        "\n",
        "# Predict on the model"
      ],
      "metadata": {
        "id": "eSVXuaSKpx6M"
      },
      "execution_count": null,
      "outputs": []
    },
    {
      "cell_type": "markdown",
      "source": [
        "##### Which hyperparameter optimization technique have you used and why?"
      ],
      "metadata": {
        "id": "_-qAgymDpx6N"
      }
    },
    {
      "cell_type": "markdown",
      "source": [
        "Answer Here."
      ],
      "metadata": {
        "id": "lQMffxkwpx6N"
      }
    },
    {
      "cell_type": "markdown",
      "source": [
        "##### Have you seen any improvement? Note down the improvement with updates Evaluation metric Score Chart."
      ],
      "metadata": {
        "id": "Z-hykwinpx6N"
      }
    },
    {
      "cell_type": "markdown",
      "source": [
        "Answer Here."
      ],
      "metadata": {
        "id": "MzVzZC6opx6N"
      }
    },
    {
      "cell_type": "markdown",
      "source": [
        "### 1. Which Evaluation metrics did you consider for a positive business impact and why?"
      ],
      "metadata": {
        "id": "h_CCil-SKHpo"
      }
    },
    {
      "cell_type": "markdown",
      "source": [
        "Answer Here."
      ],
      "metadata": {
        "id": "jHVz9hHDKFms"
      }
    },
    {
      "cell_type": "markdown",
      "source": [
        "### 2. Which ML model did you choose from the above created models as your final prediction model and why?"
      ],
      "metadata": {
        "id": "cBFFvTBNJzUa"
      }
    },
    {
      "cell_type": "markdown",
      "source": [
        "Answer Here."
      ],
      "metadata": {
        "id": "6ksF5Q1LKTVm"
      }
    },
    {
      "cell_type": "markdown",
      "source": [
        "### 3. Explain the model which you have used and the feature importance using any model explainability tool?"
      ],
      "metadata": {
        "id": "HvGl1hHyA_VK"
      }
    },
    {
      "cell_type": "markdown",
      "source": [
        "Answer Here."
      ],
      "metadata": {
        "id": "YnvVTiIxBL-C"
      }
    },
    {
      "cell_type": "markdown",
      "source": [
        "## ***8.*** ***Future Work (Optional)***"
      ],
      "metadata": {
        "id": "EyNgTHvd2WFk"
      }
    },
    {
      "cell_type": "markdown",
      "source": [
        "### 1. Save the best performing ml model in a pickle file or joblib file format for deployment process.\n"
      ],
      "metadata": {
        "id": "KH5McJBi2d8v"
      }
    },
    {
      "cell_type": "code",
      "source": [
        "# Save the File"
      ],
      "metadata": {
        "id": "bQIANRl32f4J"
      },
      "execution_count": null,
      "outputs": []
    },
    {
      "cell_type": "markdown",
      "source": [
        "### 2. Again Load the saved model file and try to predict unseen data for a sanity check.\n"
      ],
      "metadata": {
        "id": "iW_Lq9qf2h6X"
      }
    },
    {
      "cell_type": "code",
      "source": [
        "# Load the File and predict unseen data."
      ],
      "metadata": {
        "id": "oEXk9ydD2nVC"
      },
      "execution_count": null,
      "outputs": []
    },
    {
      "cell_type": "markdown",
      "source": [
        "### ***Congrats! Your model is successfully created and ready for deployment on a live server for a real user interaction !!!***"
      ],
      "metadata": {
        "id": "-Kee-DAl2viO"
      }
    },
    {
      "cell_type": "markdown",
      "source": [
        "# **Conclusion**"
      ],
      "metadata": {
        "id": "gCX9965dhzqZ"
      }
    },
    {
      "cell_type": "markdown",
      "source": [
        "Write the conclusion here."
      ],
      "metadata": {
        "id": "Fjb1IsQkh3yE"
      }
    },
    {
      "cell_type": "markdown",
      "source": [
        "### ***Hurrah! You have successfully completed your Machine Learning Capstone Project !!!***"
      ],
      "metadata": {
        "id": "gIfDvo9L0UH2"
      }
    }
  ]
}